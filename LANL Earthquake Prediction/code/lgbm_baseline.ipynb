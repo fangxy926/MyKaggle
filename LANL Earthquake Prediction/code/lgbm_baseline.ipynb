{
  "cells": [
    {
      "metadata": {
        "trusted": false,
        "_uuid": "3dfb5509eb44af8ce6a6e88d27b9b232f70b3f8d"
      },
      "cell_type": "code",
      "source": "import numpy as np # linear algebra\nimport pandas as pd # data processing, CSV file I/O (e.g. pd.read_csv)\nimport matplotlib.pyplot as plt\nimport seaborn as sns\nimport os\nprint(os.listdir(\"../input\"))\nimport time\nfrom tqdm import tqdm\n\nfrom sklearn.preprocessing import StandardScaler\nfrom sklearn.model_selection import train_test_split\nfrom lightgbm import LGBMRegressor\nfrom lightgbm import plot_importance",
      "execution_count": null,
      "outputs": []
    },
    {
      "metadata": {
        "_uuid": "1e2fe107f2ba155f67dfe56363130518f41f6eed"
      },
      "cell_type": "markdown",
      "source": "# 数据处理"
    },
    {
      "metadata": {
        "_uuid": "fda118d4a9ff0ff8eec1bdf015f085bf1f2f9286"
      },
      "cell_type": "markdown",
      "source": "## 训练集"
    },
    {
      "metadata": {
        "trusted": false,
        "_uuid": "63617c7beec6716245fe886461303b955127e289"
      },
      "cell_type": "code",
      "source": "%%time\ndf_train=pd.read_csv('../input/train.csv',dtype = {'acoustic_data': np.int16,'time_to_failure': np.float64})\npd.options.display.precision = 15",
      "execution_count": null,
      "outputs": []
    },
    {
      "metadata": {
        "_uuid": "31281467507d7e5463d971c245b37a2b99bad6d0"
      },
      "cell_type": "markdown",
      "source": "> [NumPy 数据类型](http://www.runoob.com/numpy/numpy-dtype.html)"
    },
    {
      "metadata": {
        "trusted": false,
        "_uuid": "1759085d4f6f694318290f2f3af9c930fd7da61c"
      },
      "cell_type": "code",
      "source": "df_train.info()",
      "execution_count": null,
      "outputs": []
    },
    {
      "metadata": {
        "trusted": false,
        "_uuid": "88f165aae2bcfda5b6ff0e47bb4f41e96cb4e693"
      },
      "cell_type": "code",
      "source": "df_train.describe()",
      "execution_count": null,
      "outputs": []
    },
    {
      "metadata": {
        "trusted": false,
        "_uuid": "d1aba80b72b3f0a29240d9d60e3ca16ad87ecb61"
      },
      "cell_type": "code",
      "source": "rows = 150000\nsegments=int(np.floor(df_train.shape[0] / rows))\n\nX = pd.DataFrame(index=range(segments),dtype=np.float64,\n                      columns = ['ave','std','max','min'])\nY = pd.DataFrame(index=range(segments),dtype=np.float64,\n                      columns=['time_to_failure'])\n\nfor segment in tqdm(range(segments)):\n    seg = df_train.iloc[segment*rows: segment*rows + rows]\n    x = seg['acoustic_data'].values\n    y = seg['time_to_failure'].values[-1]  # 取seg的最后一个time_to_failure\n    \n    Y.loc[segment, 'time_to_failure'] = y\n    X.loc[segment, 'ave'] = x.mean()\n    X.loc[segment, 'std'] = x.std()\n    X.loc[segment, 'max'] = x.max()\n    X.loc[segment, 'min'] = x.min()",
      "execution_count": null,
      "outputs": []
    },
    {
      "metadata": {
        "trusted": false,
        "_uuid": "d03a3b96a8cd692d8802dfe288bc02b5825d6bd4"
      },
      "cell_type": "code",
      "source": "scaler = StandardScaler()\nX_scaled = scaler.fit_transform(X)\nX_scaled = pd.DataFrame(X_scaled,columns = ['ave','std','max','min'])",
      "execution_count": null,
      "outputs": []
    },
    {
      "metadata": {
        "trusted": false,
        "_uuid": "6177df72205f49f272cb57b65a0c80c79dce7021"
      },
      "cell_type": "code",
      "source": "X_train,X_valid,y_train,y_valid = train_test_split(X_scaled,Y,test_size=0.3,random_state=42)",
      "execution_count": null,
      "outputs": []
    },
    {
      "metadata": {
        "_uuid": "f870f5a145e45bc493c1533660e75f0236b24d7e"
      },
      "cell_type": "markdown",
      "source": "## 训练模型"
    },
    {
      "metadata": {
        "trusted": false,
        "_uuid": "4e1f2c06f09614f1f9e1f44ae81d29ecd85ce89e"
      },
      "cell_type": "code",
      "source": "model = LGBMRegressor(\n    max_depth=8,\n    n_estimators=1000,\n    min_child_weight=300, \n    colsample_bytree=0.8, \n    subsample=0.8, \n    eta=0.3,    \n    seed=42)\n\nmodel.fit(\n    X_train,\n    y_train,\n    eval_metric = 'mae',\n    eval_set=[(X_valid, y_valid)], \n    verbose=True\n)\n",
      "execution_count": null,
      "outputs": []
    },
    {
      "metadata": {
        "_uuid": "f9686b7ffe0fb539dc5773fb9932897bff3b7cdb"
      },
      "cell_type": "markdown",
      "source": "## 测试集"
    },
    {
      "metadata": {
        "trusted": false,
        "_uuid": "421973338f9faf145c30200ce39e363bc876adbd"
      },
      "cell_type": "code",
      "source": "submission = pd.read_csv('../input/sample_submission.csv',index_col='seg_id')\nX_test = pd.DataFrame(columns=X.columns,dtype=np.float64,index=submission.index)",
      "execution_count": null,
      "outputs": []
    },
    {
      "metadata": {
        "trusted": false,
        "_uuid": "3513173e2636c2271f9cc0594a585ddb7bc4866e"
      },
      "cell_type": "code",
      "source": "for seg_id in X_test.index:\n    seg = pd.read_csv('../input/test/' + seg_id + '.csv')\n    x = seg['acoustic_data'].values\n    \n    X_test.loc[seg_id, 'ave'] = x.mean()\n    X_test.loc[seg_id, 'std'] = x.std()\n    X_test.loc[seg_id, 'max'] = x.max()\n    X_test.loc[seg_id, 'min'] = x.min()",
      "execution_count": null,
      "outputs": []
    },
    {
      "metadata": {
        "trusted": false,
        "_uuid": "5e44a1beb105365340a6ee4c129021917b526c70"
      },
      "cell_type": "code",
      "source": "X_test_scaled = scaler.transform(X_test)\nX_test_scaled = pd.DataFrame(X_test_scaled,columns = ['ave','std','max','min'])",
      "execution_count": null,
      "outputs": []
    },
    {
      "metadata": {
        "_uuid": "0a5c0dba55705236cb941f9f3a15ff1ae1e0088e"
      },
      "cell_type": "markdown",
      "source": "## 预测"
    },
    {
      "metadata": {
        "trusted": false,
        "_uuid": "00e08b98415468d976704095fa075aa5328e0d95"
      },
      "cell_type": "code",
      "source": "submission['time_to_failure'] = model.predict(X_test_scaled)\nsubmission.to_csv('../submission.csv')",
      "execution_count": null,
      "outputs": []
    },
    {
      "metadata": {
        "_uuid": "290304b46241a6725a4cc3ce04adb97831ca1fa8"
      },
      "cell_type": "markdown",
      "source": "# 特征重要性"
    },
    {
      "metadata": {
        "trusted": false,
        "_uuid": "d3568b45982f0368a713ae650e3c96818e21fe9b"
      },
      "cell_type": "code",
      "source": "plot_importance(model,max_num_features=4)",
      "execution_count": null,
      "outputs": []
    },
    {
      "metadata": {
        "trusted": false,
        "_uuid": "a93cc6c8728888d59718634a6c44d52f6401a003"
      },
      "cell_type": "code",
      "source": "",
      "execution_count": null,
      "outputs": []
    }
  ],
  "metadata": {
    "kernelspec": {
      "display_name": "Python 3",
      "language": "python",
      "name": "python3"
    },
    "language_info": {
      "name": "python",
      "version": "3.6.6",
      "mimetype": "text/x-python",
      "codemirror_mode": {
        "name": "ipython",
        "version": 3
      },
      "pygments_lexer": "ipython3",
      "nbconvert_exporter": "python",
      "file_extension": ".py"
    }
  },
  "nbformat": 4,
  "nbformat_minor": 1
}