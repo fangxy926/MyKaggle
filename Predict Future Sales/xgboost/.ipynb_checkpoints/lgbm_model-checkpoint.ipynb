{
 "cells": [
  {
   "cell_type": "code",
   "execution_count": 112,
   "metadata": {
    "collapsed": true
   },
   "outputs": [],
   "source": [
    "import numpy as np\n",
    "import pandas as pd\n",
    "pd.set_option('display.max_rows', 500)\n",
    "pd.set_option('display.max_columns', 100)\n",
    "\n",
    "from itertools import product\n",
    "from sklearn.preprocessing import LabelEncoder\n",
    "\n",
    "import seaborn as sns\n",
    "import matplotlib.pyplot as plt\n",
    "%matplotlib inline\n",
    "\n",
    "def plot_features(booster, figsize):\n",
    "    fig, ax = plt.subplots(1, 1, figsize=figsize)\n",
    "    return plot_importance(booster=booster, ax=ax)\n",
    "\n",
    "import time\n",
    "import sys\n",
    "import gc\n",
    "import pickle\n",
    "from lightgbm import LGBMRegressor\n",
    "from lightgbm import plot_importance"
   ]
  },
  {
   "cell_type": "code",
   "execution_count": 113,
   "metadata": {
    "collapsed": true
   },
   "outputs": [],
   "source": [
    "items = pd.read_csv('input/items.csv')\n",
    "shops = pd.read_csv('input/shops.csv')\n",
    "cats = pd.read_csv('input/item_categories.csv')\n",
    "train = pd.read_csv('input/sales_train.csv.gz')\n",
    "test = pd.read_csv('input/test.csv.gz').set_index('ID')"
   ]
  },
  {
   "cell_type": "code",
   "execution_count": 114,
   "metadata": {},
   "outputs": [
    {
     "data": {
      "text/html": [
       "<div>\n",
       "<style scoped>\n",
       "    .dataframe tbody tr th:only-of-type {\n",
       "        vertical-align: middle;\n",
       "    }\n",
       "\n",
       "    .dataframe tbody tr th {\n",
       "        vertical-align: top;\n",
       "    }\n",
       "\n",
       "    .dataframe thead th {\n",
       "        text-align: right;\n",
       "    }\n",
       "</style>\n",
       "<table border=\"1\" class=\"dataframe\">\n",
       "  <thead>\n",
       "    <tr style=\"text-align: right;\">\n",
       "      <th></th>\n",
       "      <th>date_block_num</th>\n",
       "      <th>shop_id</th>\n",
       "      <th>item_id</th>\n",
       "      <th>item_price</th>\n",
       "      <th>item_cnt_day</th>\n",
       "    </tr>\n",
       "  </thead>\n",
       "  <tbody>\n",
       "    <tr>\n",
       "      <th>count</th>\n",
       "      <td>2.935849e+06</td>\n",
       "      <td>2.935849e+06</td>\n",
       "      <td>2.935849e+06</td>\n",
       "      <td>2.935849e+06</td>\n",
       "      <td>2.935849e+06</td>\n",
       "    </tr>\n",
       "    <tr>\n",
       "      <th>mean</th>\n",
       "      <td>1.456991e+01</td>\n",
       "      <td>3.300173e+01</td>\n",
       "      <td>1.019723e+04</td>\n",
       "      <td>8.908532e+02</td>\n",
       "      <td>1.242641e+00</td>\n",
       "    </tr>\n",
       "    <tr>\n",
       "      <th>std</th>\n",
       "      <td>9.422988e+00</td>\n",
       "      <td>1.622697e+01</td>\n",
       "      <td>6.324297e+03</td>\n",
       "      <td>1.729800e+03</td>\n",
       "      <td>2.618834e+00</td>\n",
       "    </tr>\n",
       "    <tr>\n",
       "      <th>min</th>\n",
       "      <td>0.000000e+00</td>\n",
       "      <td>0.000000e+00</td>\n",
       "      <td>0.000000e+00</td>\n",
       "      <td>-1.000000e+00</td>\n",
       "      <td>-2.200000e+01</td>\n",
       "    </tr>\n",
       "    <tr>\n",
       "      <th>25%</th>\n",
       "      <td>7.000000e+00</td>\n",
       "      <td>2.200000e+01</td>\n",
       "      <td>4.476000e+03</td>\n",
       "      <td>2.490000e+02</td>\n",
       "      <td>1.000000e+00</td>\n",
       "    </tr>\n",
       "    <tr>\n",
       "      <th>50%</th>\n",
       "      <td>1.400000e+01</td>\n",
       "      <td>3.100000e+01</td>\n",
       "      <td>9.343000e+03</td>\n",
       "      <td>3.990000e+02</td>\n",
       "      <td>1.000000e+00</td>\n",
       "    </tr>\n",
       "    <tr>\n",
       "      <th>75%</th>\n",
       "      <td>2.300000e+01</td>\n",
       "      <td>4.700000e+01</td>\n",
       "      <td>1.568400e+04</td>\n",
       "      <td>9.990000e+02</td>\n",
       "      <td>1.000000e+00</td>\n",
       "    </tr>\n",
       "    <tr>\n",
       "      <th>max</th>\n",
       "      <td>3.300000e+01</td>\n",
       "      <td>5.900000e+01</td>\n",
       "      <td>2.216900e+04</td>\n",
       "      <td>3.079800e+05</td>\n",
       "      <td>2.169000e+03</td>\n",
       "    </tr>\n",
       "  </tbody>\n",
       "</table>\n",
       "</div>"
      ],
      "text/plain": [
       "       date_block_num       shop_id       item_id    item_price  item_cnt_day\n",
       "count    2.935849e+06  2.935849e+06  2.935849e+06  2.935849e+06  2.935849e+06\n",
       "mean     1.456991e+01  3.300173e+01  1.019723e+04  8.908532e+02  1.242641e+00\n",
       "std      9.422988e+00  1.622697e+01  6.324297e+03  1.729800e+03  2.618834e+00\n",
       "min      0.000000e+00  0.000000e+00  0.000000e+00 -1.000000e+00 -2.200000e+01\n",
       "25%      7.000000e+00  2.200000e+01  4.476000e+03  2.490000e+02  1.000000e+00\n",
       "50%      1.400000e+01  3.100000e+01  9.343000e+03  3.990000e+02  1.000000e+00\n",
       "75%      2.300000e+01  4.700000e+01  1.568400e+04  9.990000e+02  1.000000e+00\n",
       "max      3.300000e+01  5.900000e+01  2.216900e+04  3.079800e+05  2.169000e+03"
      ]
     },
     "execution_count": 114,
     "metadata": {},
     "output_type": "execute_result"
    }
   ],
   "source": [
    "train.describe()"
   ]
  },
  {
   "cell_type": "code",
   "execution_count": 115,
   "metadata": {},
   "outputs": [
    {
     "name": "stdout",
     "output_type": "stream",
     "text": [
      "<class 'pandas.core.frame.DataFrame'>\n",
      "RangeIndex: 2935849 entries, 0 to 2935848\n",
      "Data columns (total 6 columns):\n",
      "date              object\n",
      "date_block_num    int64\n",
      "shop_id           int64\n",
      "item_id           int64\n",
      "item_price        float64\n",
      "item_cnt_day      float64\n",
      "dtypes: float64(2), int64(3), object(1)\n",
      "memory usage: 134.4+ MB\n"
     ]
    }
   ],
   "source": [
    "train.info()"
   ]
  },
  {
   "cell_type": "code",
   "execution_count": 116,
   "metadata": {},
   "outputs": [
    {
     "data": {
      "text/plain": [
       "<matplotlib.axes._subplots.AxesSubplot at 0x7fd191f9ab00>"
      ]
     },
     "execution_count": 116,
     "metadata": {},
     "output_type": "execute_result"
    },
    {
     "data": {
      "image/png": "[encoded data removed]",
      "text/plain": [
       "<Figure size 720x288 with 1 Axes>"
      ]
     },
     "metadata": {
      "needs_background": "light"
     },
     "output_type": "display_data"
    },
    {
     "data": {
      "image/png": "[encoded data removed]",
      "text/plain": [
       "<Figure size 720x288 with 1 Axes>"
      ]
     },
     "metadata": {
      "needs_background": "light"
     },
     "output_type": "display_data"
    }
   ],
   "source": [
    "plt.figure(figsize=(10, 4))\n",
    "plt.xlim(-100, 3000)\n",
    "sns.boxplot(x=train.item_cnt_day)\n",
    "\n",
    "plt.figure(figsize=(10, 4))\n",
    "plt.xlim(train.item_price.min(), train.item_price.max()*1.1)\n",
    "sns.boxplot(x=train.item_price)"
   ]
  },
  {
   "cell_type": "code",
   "execution_count": 117,
   "metadata": {},
   "outputs": [
    {
     "data": {
      "text/html": [
       "<div>\n",
       "<style scoped>\n",
       "    .dataframe tbody tr th:only-of-type {\n",
       "        vertical-align: middle;\n",
       "    }\n",
       "\n",
       "    .dataframe tbody tr th {\n",
       "        vertical-align: top;\n",
       "    }\n",
       "\n",
       "    .dataframe thead th {\n",
       "        text-align: right;\n",
       "    }\n",
       "</style>\n",
       "<table border=\"1\" class=\"dataframe\">\n",
       "  <thead>\n",
       "    <tr style=\"text-align: right;\">\n",
       "      <th></th>\n",
       "      <th>date</th>\n",
       "      <th>date_block_num</th>\n",
       "      <th>shop_id</th>\n",
       "      <th>item_id</th>\n",
       "      <th>item_price</th>\n",
       "      <th>item_cnt_day</th>\n",
       "    </tr>\n",
       "  </thead>\n",
       "  <tbody>\n",
       "  </tbody>\n",
       "</table>\n",
       "</div>"
      ],
      "text/plain": [
       "Empty DataFrame\n",
       "Columns: [date, date_block_num, shop_id, item_id, item_price, item_cnt_day]\n",
       "Index: []"
      ]
     },
     "execution_count": 117,
     "metadata": {},
     "output_type": "execute_result"
    }
   ],
   "source": [
    "train[train.item_price == 0]"
   ]
  },
  {
   "cell_type": "code",
   "execution_count": 118,
   "metadata": {
    "collapsed": true
   },
   "outputs": [],
   "source": [
    "train = train[train.item_price < 100000]\n",
    "train = train[train.item_cnt_day < 1001]"
   ]
  },
  {
   "cell_type": "code",
   "execution_count": 119,
   "metadata": {
    "collapsed": true
   },
   "outputs": [],
   "source": [
    "median = train[(train.shop_id==32)&(train.item_id==2973)&(train.date_block_num==4)&\n",
    "              (train.item_price > 0)].item_price.median()\n",
    "train.loc[train.item_price<=0, 'item_price'] = median"
   ]
  },
  {
   "cell_type": "code",
   "execution_count": 120,
   "metadata": {
    "collapsed": true
   },
   "outputs": [],
   "source": [
    "train.loc[train.shop_id == 0, 'shop_id'] = 57\n",
    "test.loc[test.shop_id == 0, 'shop_id'] = 57\n",
    "\n",
    "train.loc[train.shop_id == 1, 'shop_id'] = 58\n",
    "test.loc[test.shop_id == 1, 'shop_id'] = 58\n",
    "\n",
    "train.loc[train.shop_id == 10, 'shop_id'] = 11\n",
    "test.loc[test.shop_id == 10, 'shop_id'] = 11"
   ]
  },
  {
   "cell_type": "code",
   "execution_count": 121,
   "metadata": {
    "collapsed": true
   },
   "outputs": [],
   "source": [
    "shops.loc[shops.shop_name == 'Сергиев Посад ТЦ \"7Я\"', 'shop_name'] = 'СергиевПосад ТЦ \"7Я\"'\n",
    "shops['city'] = shops['shop_name'].str.split(' ').map(lambda x: x[0])\n",
    "shops.loc[shops.city == '!Якутск', 'city'] = 'Якутск'\n",
    "shops['city_code'] = LabelEncoder().fit_transform(shops['city'])\n",
    "shops = shops[['shop_id', 'city_code']]\n",
    "\n",
    "cats['split'] = cats['item_category_name'].str.split('-')\n",
    "cats['type'] = cats['split'].map(lambda x: x[0].strip())\n",
    "cats['type_code'] = LabelEncoder().fit_transform(cats['type'])\n",
    "\n",
    "cats['subtype'] = cats['split'].map(lambda x: x[1].strip() if len(x) > 1 else x[0].strip())\n",
    "cats['subtype_code'] = LabelEncoder().fit_transform(cats['subtype'])\n",
    "cats = cats[['type_code', 'subtype_code', 'item_category_id']]"
   ]
  },
  {
   "cell_type": "code",
   "execution_count": 122,
   "metadata": {
    "collapsed": true
   },
   "outputs": [],
   "source": [
    "items.drop(['item_name'], axis=1, inplace=True)"
   ]
  },
  {
   "cell_type": "code",
   "execution_count": 123,
   "metadata": {
    "collapsed": true
   },
   "outputs": [],
   "source": [
    "matrix = []\n",
    "cols = ['date_block_num','shop_id','item_id']\n",
    "for i in range(34):\n",
    "    sales = train[train.date_block_num==i]\n",
    "    matrix.append(np.array(list(product([i], sales.shop_id.unique(), sales.item_id.unique())), dtype='int16'))\n",
    "matrix = pd.DataFrame(np.vstack(matrix), columns=cols)\n",
    "matrix['date_block_num'] = matrix['date_block_num'].astype(np.int8)\n",
    "matrix['shop_id'] = matrix['shop_id'].astype(np.int8)\n",
    "matrix['item_id'] = matrix['item_id'].astype(np.int16)\n",
    "matrix.sort_values(cols, inplace=True)"
   ]
  },
  {
   "cell_type": "code",
   "execution_count": 124,
   "metadata": {
    "collapsed": true
   },
   "outputs": [],
   "source": [
    "group = train.groupby(['date_block_num', 'shop_id', 'item_id']).agg({'item_cnt_day': ['sum']})\n",
    "group.columns = ['item_cnt_month']\n",
    "group.reset_index(inplace=True)"
   ]
  },
  {
   "cell_type": "code",
   "execution_count": 125,
   "metadata": {
    "collapsed": true
   },
   "outputs": [],
   "source": [
    "matrix = pd.merge(matrix, group, on=cols, how='left')\n",
    "matrix['item_cnt_month'] = (matrix['item_cnt_month']\n",
    "                                .fillna(0)\n",
    "                                .clip(0, 20)\n",
    "                                .astype(np.float16))"
   ]
  },
  {
   "cell_type": "code",
   "execution_count": 126,
   "metadata": {
    "collapsed": true
   },
   "outputs": [],
   "source": [
    "train['revenue'] = train['item_price'] * train['item_cnt_day']"
   ]
  },
  {
   "cell_type": "code",
   "execution_count": 127,
   "metadata": {
    "collapsed": true
   },
   "outputs": [],
   "source": [
    "test['date_block_num'] = 34\n",
    "test['date_block_num'] = test['date_block_num'].astype(np.int8)\n",
    "test['shop_id'] = test['shop_id'].astype(np.int8)\n",
    "test['item_id'] = test['item_id'].astype(np.int16)"
   ]
  },
  {
   "cell_type": "code",
   "execution_count": 128,
   "metadata": {
    "collapsed": true
   },
   "outputs": [],
   "source": [
    "matrix = pd.concat([matrix, test], ignore_index=True, sort=False, keys=cols)\n",
    "matrix.fillna(0, inplace=True)"
   ]
  },
  {
   "cell_type": "code",
   "execution_count": 129,
   "metadata": {
    "collapsed": true
   },
   "outputs": [],
   "source": [
    "matrix = pd.merge(matrix, shops, on=['shop_id'], how='left')\n",
    "matrix = pd.merge(matrix, items, on=['item_id'], how='left')\n",
    "matrix = pd.merge(matrix, cats, on=['item_category_id'], how='left')\n",
    "matrix['city_code'] = matrix['city_code'].astype(np.int8)\n",
    "matrix['item_category_id'] = matrix['item_category_id'].astype(np.int8)\n",
    "matrix['type_code'] = matrix['type_code'].astype(np.int8)\n",
    "matrix['subtype_code'] = matrix['subtype_code'].astype(np.int8)"
   ]
  },
  {
   "cell_type": "code",
   "execution_count": 130,
   "metadata": {
    "collapsed": true
   },
   "outputs": [],
   "source": [
    "def lag_feature(df, lags, col):\n",
    "    tmp = df[['date_block_num','shop_id','item_id',col]]\n",
    "    for i in lags:\n",
    "        shifted = tmp.copy()\n",
    "        shifted.columns = ['date_block_num','shop_id','item_id', col+'_lag_'+str(i)]\n",
    "        shifted['date_block_num'] += i\n",
    "        df = pd.merge(df, shifted, on=['date_block_num','shop_id','item_id'], how='left')\n",
    "    return df"
   ]
  },
  {
   "cell_type": "code",
   "execution_count": 131,
   "metadata": {
    "collapsed": true
   },
   "outputs": [],
   "source": [
    "matrix = lag_feature(matrix, [1,2,3,6], 'item_cnt_month')"
   ]
  },
  {
   "cell_type": "code",
   "execution_count": 132,
   "metadata": {
    "collapsed": true
   },
   "outputs": [],
   "source": [
    "group = matrix.groupby(['date_block_num']).agg({'item_cnt_month': ['mean']})\n",
    "group.columns = [ 'date_avg_item_cnt' ]\n",
    "group.reset_index(inplace=True)\n",
    "\n",
    "matrix = pd.merge(matrix, group, on=['date_block_num'], how='left')\n",
    "matrix['date_avg_item_cnt'] = matrix['date_avg_item_cnt'].astype(np.float16)\n",
    "matrix = lag_feature(matrix, [1, 2, 3], 'date_avg_item_cnt')\n",
    "matrix.drop(['date_avg_item_cnt'], axis=1, inplace=True)"
   ]
  },
  {
   "cell_type": "code",
   "execution_count": 133,
   "metadata": {
    "collapsed": true
   },
   "outputs": [],
   "source": [
    "group = matrix.groupby(['date_block_num', 'item_id']).agg({'item_cnt_month': ['mean']})\n",
    "group.columns = [ 'date_item_avg_item_cnt' ]\n",
    "group.reset_index(inplace=True)\n",
    "\n",
    "matrix = pd.merge(matrix, group, on=['date_block_num','item_id'], how='left')\n",
    "matrix['date_item_avg_item_cnt'] = matrix['date_item_avg_item_cnt'].astype(np.float16)\n",
    "matrix = lag_feature(matrix, [1,2,4], 'date_item_avg_item_cnt')\n",
    "matrix.drop(['date_item_avg_item_cnt'], axis=1, inplace=True)"
   ]
  },
  {
   "cell_type": "code",
   "execution_count": 134,
   "metadata": {
    "collapsed": true
   },
   "outputs": [],
   "source": [
    "group = matrix.groupby(['date_block_num', 'shop_id', 'item_category_id']).agg({'item_cnt_month': ['mean']})\n",
    "group.columns = ['date_shop_cat_avg_item_cnt']\n",
    "group.reset_index(inplace=True)\n",
    "\n",
    "matrix = pd.merge(matrix, group, on=['date_block_num', 'shop_id', 'item_category_id'], how='left')\n",
    "matrix['date_shop_cat_avg_item_cnt'] = matrix['date_shop_cat_avg_item_cnt'].astype(np.float16)\n",
    "matrix = lag_feature(matrix, [1], 'date_shop_cat_avg_item_cnt')\n",
    "matrix.drop(['date_shop_cat_avg_item_cnt'], axis=1, inplace=True)"
   ]
  },
  {
   "cell_type": "code",
   "execution_count": 135,
   "metadata": {
    "collapsed": true
   },
   "outputs": [],
   "source": [
    "group = matrix.groupby(['date_block_num', 'shop_id', 'type_code']).agg({'item_cnt_month': ['mean']})\n",
    "group.columns = ['date_shop_type_avg_item_cnt']\n",
    "group.reset_index(inplace=True)\n",
    "\n",
    "matrix = pd.merge(matrix, group, on=['date_block_num', 'shop_id', 'type_code'], how='left')\n",
    "matrix['date_shop_type_avg_item_cnt'] = matrix['date_shop_type_avg_item_cnt'].astype(np.float16)\n",
    "matrix = lag_feature(matrix, [1], 'date_shop_type_avg_item_cnt')\n",
    "matrix.drop(['date_shop_type_avg_item_cnt'], axis=1, inplace=True)"
   ]
  },
  {
   "cell_type": "code",
   "execution_count": 136,
   "metadata": {
    "collapsed": true
   },
   "outputs": [],
   "source": [
    "group = matrix.groupby(['date_block_num', 'shop_id', 'subtype_code']).agg({'item_cnt_month': ['mean']})\n",
    "group.columns = ['date_shop_subtype_avg_item_cnt']\n",
    "group.reset_index(inplace=True)\n",
    "\n",
    "matrix = pd.merge(matrix, group, on=['date_block_num', 'shop_id', 'subtype_code'], how='left')\n",
    "matrix['date_shop_subtype_avg_item_cnt'] = matrix['date_shop_subtype_avg_item_cnt'].astype(np.float16)\n",
    "matrix = lag_feature(matrix, [1], 'date_shop_subtype_avg_item_cnt')\n",
    "matrix.drop(['date_shop_subtype_avg_item_cnt'], axis=1, inplace=True)"
   ]
  },
  {
   "cell_type": "code",
   "execution_count": 137,
   "metadata": {
    "collapsed": true
   },
   "outputs": [],
   "source": [
    "group = matrix.groupby(['date_block_num', 'city_code']).agg({'item_cnt_month': ['mean']})\n",
    "group.columns = [ 'date_city_avg_item_cnt' ]\n",
    "group.reset_index(inplace=True)\n",
    "\n",
    "matrix = pd.merge(matrix, group, on=['date_block_num', 'city_code'], how='left')\n",
    "matrix['date_city_avg_item_cnt'] = matrix['date_city_avg_item_cnt'].astype(np.float16)\n",
    "matrix = lag_feature(matrix, [1], 'date_city_avg_item_cnt')\n",
    "matrix.drop(['date_city_avg_item_cnt'], axis=1, inplace=True)"
   ]
  },
  {
   "cell_type": "code",
   "execution_count": 138,
   "metadata": {
    "collapsed": true
   },
   "outputs": [],
   "source": [
    "group = matrix.groupby(['date_block_num', 'item_id', 'city_code']).agg({'item_cnt_month': ['mean']})\n",
    "group.columns = [ 'date_item_city_avg_item_cnt' ]\n",
    "group.reset_index(inplace=True)\n",
    "\n",
    "matrix = pd.merge(matrix, group, on=['date_block_num', 'item_id', 'city_code'], how='left')\n",
    "matrix['date_item_city_avg_item_cnt'] = matrix['date_item_city_avg_item_cnt'].astype(np.float16)\n",
    "matrix = lag_feature(matrix, [1], 'date_item_city_avg_item_cnt')\n",
    "matrix.drop(['date_item_city_avg_item_cnt'], axis=1, inplace=True)"
   ]
  },
  {
   "cell_type": "code",
   "execution_count": 139,
   "metadata": {
    "collapsed": true
   },
   "outputs": [],
   "source": [
    "group = matrix.groupby(['date_block_num', 'type_code']).agg({'item_cnt_month': ['mean']})\n",
    "group.columns = [ 'date_type_avg_item_cnt' ]\n",
    "group.reset_index(inplace=True)\n",
    "\n",
    "matrix = pd.merge(matrix, group, on=['date_block_num', 'type_code'], how='left')\n",
    "matrix['date_type_avg_item_cnt'] = matrix['date_type_avg_item_cnt'].astype(np.float16)\n",
    "matrix = lag_feature(matrix, [1], 'date_type_avg_item_cnt')\n",
    "matrix.drop(['date_type_avg_item_cnt'], axis=1, inplace=True)"
   ]
  },
  {
   "cell_type": "code",
   "execution_count": 140,
   "metadata": {
    "collapsed": true
   },
   "outputs": [],
   "source": [
    "group = matrix.groupby(['date_block_num', 'subtype_code']).agg({'item_cnt_month': ['mean']})\n",
    "group.columns = [ 'date_subtype_avg_item_cnt' ]\n",
    "group.reset_index(inplace=True)\n",
    "\n",
    "matrix = pd.merge(matrix, group, on=['date_block_num', 'subtype_code'], how='left')\n",
    "matrix['date_subtype_avg_item_cnt'] = matrix['date_subtype_avg_item_cnt'].astype(np.float16)\n",
    "matrix = lag_feature(matrix, [1], 'date_subtype_avg_item_cnt')\n",
    "matrix.drop(['date_subtype_avg_item_cnt'], axis=1, inplace=True)"
   ]
  },
  {
   "cell_type": "code",
   "execution_count": 141,
   "metadata": {
    "collapsed": true
   },
   "outputs": [],
   "source": [
    "def fill_na(df):\n",
    "    for col in df.columns:\n",
    "        if ('_lag_' in col) & (df[col].isnull().any()):\n",
    "            if ('item_cnt' in col):\n",
    "                df[col].fillna(0, inplace=True)         \n",
    "    return df"
   ]
  },
  {
   "cell_type": "code",
   "execution_count": 142,
   "metadata": {
    "collapsed": true
   },
   "outputs": [],
   "source": [
    "matrix1 = fill_na(matrix)"
   ]
  },
  {
   "cell_type": "code",
   "execution_count": 143,
   "metadata": {
    "collapsed": true
   },
   "outputs": [],
   "source": [
    "X_train = matrix1[matrix1.date_block_num < 33].drop(['item_cnt_month'], axis=1)\n",
    "Y_train = matrix1[matrix1.date_block_num < 33]['item_cnt_month']\n",
    "X_valid = matrix1[matrix1.date_block_num == 33].drop(['item_cnt_month'], axis=1)\n",
    "Y_valid = matrix1[matrix1.date_block_num == 33]['item_cnt_month']\n",
    "X_test = matrix1[matrix1.date_block_num == 34].drop(['item_cnt_month'], axis=1)"
   ]
  },
  {
   "cell_type": "code",
   "execution_count": 144,
   "metadata": {
    "scrolled": true
   },
   "outputs": [
    {
     "name": "stdout",
     "output_type": "stream",
     "text": [
      "[1]\ttraining's rmse: 1.18427\ttraining's l2: 1.4025\tvalid_1's rmse: 1.10749\tvalid_1's l2: 1.22654\n",
      "Training until validation scores don't improve for 10 rounds.\n",
      "[2]\ttraining's rmse: 1.14702\ttraining's l2: 1.31566\tvalid_1's rmse: 1.07983\tvalid_1's l2: 1.16603\n",
      "[3]\ttraining's rmse: 1.11613\ttraining's l2: 1.24576\tvalid_1's rmse: 1.0571\tvalid_1's l2: 1.11746\n",
      "[4]\ttraining's rmse: 1.08993\ttraining's l2: 1.18795\tvalid_1's rmse: 1.03856\tvalid_1's l2: 1.07861\n",
      "[5]\ttraining's rmse: 1.0677\ttraining's l2: 1.13997\tvalid_1's rmse: 1.02343\tvalid_1's l2: 1.0474\n",
      "[6]\ttraining's rmse: 1.05038\ttraining's l2: 1.1033\tvalid_1's rmse: 1.01156\tvalid_1's l2: 1.02326\n",
      "[7]\ttraining's rmse: 1.03452\ttraining's l2: 1.07022\tvalid_1's rmse: 1.001\tvalid_1's l2: 1.002\n",
      "[8]\ttraining's rmse: 1.02122\ttraining's l2: 1.0429\tvalid_1's rmse: 0.99295\tvalid_1's l2: 0.98595\n",
      "[9]\ttraining's rmse: 1.00998\ttraining's l2: 1.02005\tvalid_1's rmse: 0.985621\tvalid_1's l2: 0.971449\n",
      "[10]\ttraining's rmse: 1.00072\ttraining's l2: 1.00145\tvalid_1's rmse: 0.979917\tvalid_1's l2: 0.960238\n",
      "[11]\ttraining's rmse: 0.992485\ttraining's l2: 0.985026\tvalid_1's rmse: 0.975092\tvalid_1's l2: 0.950805\n",
      "[12]\ttraining's rmse: 0.98585\ttraining's l2: 0.971899\tvalid_1's rmse: 0.971501\tvalid_1's l2: 0.943814\n",
      "[13]\ttraining's rmse: 0.979594\ttraining's l2: 0.959604\tvalid_1's rmse: 0.968991\tvalid_1's l2: 0.938944\n",
      "[14]\ttraining's rmse: 0.974391\ttraining's l2: 0.949438\tvalid_1's rmse: 0.966414\tvalid_1's l2: 0.933956\n",
      "[15]\ttraining's rmse: 0.9692\ttraining's l2: 0.939348\tvalid_1's rmse: 0.962488\tvalid_1's l2: 0.926383\n",
      "[16]\ttraining's rmse: 0.965491\ttraining's l2: 0.932173\tvalid_1's rmse: 0.961332\tvalid_1's l2: 0.92416\n",
      "[17]\ttraining's rmse: 0.962157\ttraining's l2: 0.925746\tvalid_1's rmse: 0.960017\tvalid_1's l2: 0.921632\n",
      "[18]\ttraining's rmse: 0.959116\ttraining's l2: 0.919903\tvalid_1's rmse: 0.958397\tvalid_1's l2: 0.918524\n",
      "[19]\ttraining's rmse: 0.956449\ttraining's l2: 0.914795\tvalid_1's rmse: 0.957532\tvalid_1's l2: 0.916867\n",
      "[20]\ttraining's rmse: 0.953993\ttraining's l2: 0.910103\tvalid_1's rmse: 0.957475\tvalid_1's l2: 0.916759\n",
      "[21]\ttraining's rmse: 0.95174\ttraining's l2: 0.905809\tvalid_1's rmse: 0.956472\tvalid_1's l2: 0.914839\n",
      "[22]\ttraining's rmse: 0.949818\ttraining's l2: 0.902154\tvalid_1's rmse: 0.955716\tvalid_1's l2: 0.913394\n",
      "[23]\ttraining's rmse: 0.94798\ttraining's l2: 0.898666\tvalid_1's rmse: 0.954961\tvalid_1's l2: 0.91195\n",
      "[24]\ttraining's rmse: 0.946535\ttraining's l2: 0.895929\tvalid_1's rmse: 0.954394\tvalid_1's l2: 0.910868\n",
      "[25]\ttraining's rmse: 0.944938\ttraining's l2: 0.892908\tvalid_1's rmse: 0.954362\tvalid_1's l2: 0.910808\n",
      "[26]\ttraining's rmse: 0.942766\ttraining's l2: 0.888808\tvalid_1's rmse: 0.952986\tvalid_1's l2: 0.908182\n",
      "[27]\ttraining's rmse: 0.941515\ttraining's l2: 0.88645\tvalid_1's rmse: 0.952895\tvalid_1's l2: 0.90801\n",
      "[28]\ttraining's rmse: 0.940112\ttraining's l2: 0.883811\tvalid_1's rmse: 0.952373\tvalid_1's l2: 0.907015\n",
      "[29]\ttraining's rmse: 0.938901\ttraining's l2: 0.881534\tvalid_1's rmse: 0.952484\tvalid_1's l2: 0.907226\n",
      "[30]\ttraining's rmse: 0.937763\ttraining's l2: 0.879399\tvalid_1's rmse: 0.952077\tvalid_1's l2: 0.906451\n",
      "[31]\ttraining's rmse: 0.936629\ttraining's l2: 0.877274\tvalid_1's rmse: 0.951595\tvalid_1's l2: 0.905532\n",
      "[32]\ttraining's rmse: 0.935281\ttraining's l2: 0.87475\tvalid_1's rmse: 0.950974\tvalid_1's l2: 0.904351\n",
      "[33]\ttraining's rmse: 0.934512\ttraining's l2: 0.873312\tvalid_1's rmse: 0.950828\tvalid_1's l2: 0.904073\n",
      "[34]\ttraining's rmse: 0.933606\ttraining's l2: 0.871621\tvalid_1's rmse: 0.951344\tvalid_1's l2: 0.905056\n",
      "[35]\ttraining's rmse: 0.932723\ttraining's l2: 0.869971\tvalid_1's rmse: 0.951005\tvalid_1's l2: 0.904411\n",
      "[36]\ttraining's rmse: 0.931367\ttraining's l2: 0.867444\tvalid_1's rmse: 0.949887\tvalid_1's l2: 0.902285\n",
      "[37]\ttraining's rmse: 0.930711\ttraining's l2: 0.866223\tvalid_1's rmse: 0.949708\tvalid_1's l2: 0.901946\n",
      "[38]\ttraining's rmse: 0.929965\ttraining's l2: 0.864834\tvalid_1's rmse: 0.949699\tvalid_1's l2: 0.901929\n",
      "[39]\ttraining's rmse: 0.928921\ttraining's l2: 0.862894\tvalid_1's rmse: 0.948603\tvalid_1's l2: 0.899848\n",
      "[40]\ttraining's rmse: 0.928501\ttraining's l2: 0.862114\tvalid_1's rmse: 0.948454\tvalid_1's l2: 0.899566\n",
      "[41]\ttraining's rmse: 0.927898\ttraining's l2: 0.860996\tvalid_1's rmse: 0.94848\tvalid_1's l2: 0.899614\n",
      "[42]\ttraining's rmse: 0.927327\ttraining's l2: 0.859936\tvalid_1's rmse: 0.948581\tvalid_1's l2: 0.899806\n",
      "[43]\ttraining's rmse: 0.926677\ttraining's l2: 0.858731\tvalid_1's rmse: 0.948492\tvalid_1's l2: 0.899637\n",
      "[44]\ttraining's rmse: 0.92625\ttraining's l2: 0.857939\tvalid_1's rmse: 0.948255\tvalid_1's l2: 0.899187\n",
      "[45]\ttraining's rmse: 0.925647\ttraining's l2: 0.856823\tvalid_1's rmse: 0.948311\tvalid_1's l2: 0.899294\n",
      "[46]\ttraining's rmse: 0.925163\ttraining's l2: 0.855926\tvalid_1's rmse: 0.948228\tvalid_1's l2: 0.899136\n",
      "[47]\ttraining's rmse: 0.924431\ttraining's l2: 0.854573\tvalid_1's rmse: 0.948071\tvalid_1's l2: 0.898838\n",
      "[48]\ttraining's rmse: 0.923606\ttraining's l2: 0.853047\tvalid_1's rmse: 0.947449\tvalid_1's l2: 0.89766\n",
      "[49]\ttraining's rmse: 0.922961\ttraining's l2: 0.851858\tvalid_1's rmse: 0.948625\tvalid_1's l2: 0.89989\n",
      "[50]\ttraining's rmse: 0.922461\ttraining's l2: 0.850933\tvalid_1's rmse: 0.948573\tvalid_1's l2: 0.899791\n",
      "[51]\ttraining's rmse: 0.921837\ttraining's l2: 0.849783\tvalid_1's rmse: 0.948222\tvalid_1's l2: 0.899126\n",
      "[52]\ttraining's rmse: 0.921306\ttraining's l2: 0.848804\tvalid_1's rmse: 0.94763\tvalid_1's l2: 0.898002\n",
      "[53]\ttraining's rmse: 0.920827\ttraining's l2: 0.847922\tvalid_1's rmse: 0.947296\tvalid_1's l2: 0.897369\n",
      "[54]\ttraining's rmse: 0.919893\ttraining's l2: 0.846204\tvalid_1's rmse: 0.94618\tvalid_1's l2: 0.895256\n",
      "[55]\ttraining's rmse: 0.919487\ttraining's l2: 0.845456\tvalid_1's rmse: 0.945803\tvalid_1's l2: 0.894544\n",
      "[56]\ttraining's rmse: 0.919073\ttraining's l2: 0.844695\tvalid_1's rmse: 0.945663\tvalid_1's l2: 0.894279\n",
      "[57]\ttraining's rmse: 0.918712\ttraining's l2: 0.844031\tvalid_1's rmse: 0.945436\tvalid_1's l2: 0.893849\n",
      "[58]\ttraining's rmse: 0.917756\ttraining's l2: 0.842276\tvalid_1's rmse: 0.945187\tvalid_1's l2: 0.893379\n",
      "[59]\ttraining's rmse: 0.91727\ttraining's l2: 0.841383\tvalid_1's rmse: 0.945112\tvalid_1's l2: 0.893238\n",
      "[60]\ttraining's rmse: 0.916908\ttraining's l2: 0.840721\tvalid_1's rmse: 0.94496\tvalid_1's l2: 0.89295\n",
      "[61]\ttraining's rmse: 0.916187\ttraining's l2: 0.839399\tvalid_1's rmse: 0.945114\tvalid_1's l2: 0.893241\n",
      "[62]\ttraining's rmse: 0.915871\ttraining's l2: 0.838819\tvalid_1's rmse: 0.945161\tvalid_1's l2: 0.893329\n",
      "[63]\ttraining's rmse: 0.915547\ttraining's l2: 0.838226\tvalid_1's rmse: 0.94505\tvalid_1's l2: 0.89312\n",
      "[64]\ttraining's rmse: 0.915261\ttraining's l2: 0.837703\tvalid_1's rmse: 0.944995\tvalid_1's l2: 0.893015\n",
      "[65]\ttraining's rmse: 0.914859\ttraining's l2: 0.836966\tvalid_1's rmse: 0.944645\tvalid_1's l2: 0.892354\n",
      "[66]\ttraining's rmse: 0.914453\ttraining's l2: 0.836225\tvalid_1's rmse: 0.944789\tvalid_1's l2: 0.892626\n",
      "[67]\ttraining's rmse: 0.913686\ttraining's l2: 0.834823\tvalid_1's rmse: 0.943936\tvalid_1's l2: 0.891016\n",
      "[68]\ttraining's rmse: 0.913421\ttraining's l2: 0.834338\tvalid_1's rmse: 0.943762\tvalid_1's l2: 0.890687\n",
      "[69]\ttraining's rmse: 0.912994\ttraining's l2: 0.833558\tvalid_1's rmse: 0.94357\tvalid_1's l2: 0.890325\n",
      "[70]\ttraining's rmse: 0.912475\ttraining's l2: 0.832611\tvalid_1's rmse: 0.943761\tvalid_1's l2: 0.890684\n",
      "[71]\ttraining's rmse: 0.912219\ttraining's l2: 0.832144\tvalid_1's rmse: 0.943435\tvalid_1's l2: 0.89007\n",
      "[72]\ttraining's rmse: 0.911764\ttraining's l2: 0.831313\tvalid_1's rmse: 0.943335\tvalid_1's l2: 0.889881\n",
      "[73]\ttraining's rmse: 0.911523\ttraining's l2: 0.830874\tvalid_1's rmse: 0.943062\tvalid_1's l2: 0.889366\n",
      "[74]\ttraining's rmse: 0.911199\ttraining's l2: 0.830284\tvalid_1's rmse: 0.942875\tvalid_1's l2: 0.889013\n",
      "[75]\ttraining's rmse: 0.910851\ttraining's l2: 0.82965\tvalid_1's rmse: 0.942698\tvalid_1's l2: 0.88868\n",
      "[76]\ttraining's rmse: 0.910541\ttraining's l2: 0.829085\tvalid_1's rmse: 0.942806\tvalid_1's l2: 0.888883\n",
      "[77]\ttraining's rmse: 0.910276\ttraining's l2: 0.828602\tvalid_1's rmse: 0.942915\tvalid_1's l2: 0.889089\n",
      "[78]\ttraining's rmse: 0.910021\ttraining's l2: 0.828138\tvalid_1's rmse: 0.942674\tvalid_1's l2: 0.888634\n",
      "[79]\ttraining's rmse: 0.909816\ttraining's l2: 0.827765\tvalid_1's rmse: 0.942429\tvalid_1's l2: 0.888172\n",
      "[80]\ttraining's rmse: 0.909591\ttraining's l2: 0.827355\tvalid_1's rmse: 0.942276\tvalid_1's l2: 0.887885\n"
     ]
    },
    {
     "name": "stdout",
     "output_type": "stream",
     "text": [
      "[81]\ttraining's rmse: 0.909315\ttraining's l2: 0.826853\tvalid_1's rmse: 0.942231\tvalid_1's l2: 0.887799\n",
      "[82]\ttraining's rmse: 0.908539\ttraining's l2: 0.825443\tvalid_1's rmse: 0.942009\tvalid_1's l2: 0.88738\n",
      "[83]\ttraining's rmse: 0.908365\ttraining's l2: 0.825127\tvalid_1's rmse: 0.941904\tvalid_1's l2: 0.887183\n",
      "[84]\ttraining's rmse: 0.90816\ttraining's l2: 0.824755\tvalid_1's rmse: 0.942085\tvalid_1's l2: 0.887525\n",
      "[85]\ttraining's rmse: 0.907925\ttraining's l2: 0.824327\tvalid_1's rmse: 0.94225\tvalid_1's l2: 0.887835\n",
      "[86]\ttraining's rmse: 0.907647\ttraining's l2: 0.823823\tvalid_1's rmse: 0.942163\tvalid_1's l2: 0.887671\n",
      "[87]\ttraining's rmse: 0.907437\ttraining's l2: 0.823442\tvalid_1's rmse: 0.942183\tvalid_1's l2: 0.887709\n",
      "[88]\ttraining's rmse: 0.907259\ttraining's l2: 0.823119\tvalid_1's rmse: 0.94207\tvalid_1's l2: 0.887496\n",
      "[89]\ttraining's rmse: 0.906595\ttraining's l2: 0.821915\tvalid_1's rmse: 0.941856\tvalid_1's l2: 0.887093\n",
      "[90]\ttraining's rmse: 0.906356\ttraining's l2: 0.821482\tvalid_1's rmse: 0.941549\tvalid_1's l2: 0.886514\n",
      "[91]\ttraining's rmse: 0.906139\ttraining's l2: 0.821087\tvalid_1's rmse: 0.941718\tvalid_1's l2: 0.886833\n",
      "[92]\ttraining's rmse: 0.905941\ttraining's l2: 0.820729\tvalid_1's rmse: 0.941642\tvalid_1's l2: 0.88669\n",
      "[93]\ttraining's rmse: 0.905758\ttraining's l2: 0.820397\tvalid_1's rmse: 0.941702\tvalid_1's l2: 0.886802\n",
      "[94]\ttraining's rmse: 0.905585\ttraining's l2: 0.820084\tvalid_1's rmse: 0.941744\tvalid_1's l2: 0.886882\n",
      "[95]\ttraining's rmse: 0.905352\ttraining's l2: 0.819661\tvalid_1's rmse: 0.941878\tvalid_1's l2: 0.887134\n",
      "[96]\ttraining's rmse: 0.90515\ttraining's l2: 0.819296\tvalid_1's rmse: 0.941909\tvalid_1's l2: 0.887192\n",
      "[97]\ttraining's rmse: 0.904997\ttraining's l2: 0.81902\tvalid_1's rmse: 0.94186\tvalid_1's l2: 0.887101\n",
      "[98]\ttraining's rmse: 0.904322\ttraining's l2: 0.817798\tvalid_1's rmse: 0.941477\tvalid_1's l2: 0.886379\n",
      "[99]\ttraining's rmse: 0.904068\ttraining's l2: 0.817339\tvalid_1's rmse: 0.941385\tvalid_1's l2: 0.886205\n",
      "[100]\ttraining's rmse: 0.903665\ttraining's l2: 0.81661\tvalid_1's rmse: 0.940909\tvalid_1's l2: 0.885309\n",
      "[101]\ttraining's rmse: 0.903453\ttraining's l2: 0.816227\tvalid_1's rmse: 0.940898\tvalid_1's l2: 0.88529\n",
      "[102]\ttraining's rmse: 0.903293\ttraining's l2: 0.815938\tvalid_1's rmse: 0.941188\tvalid_1's l2: 0.885835\n",
      "[103]\ttraining's rmse: 0.903055\ttraining's l2: 0.815508\tvalid_1's rmse: 0.941291\tvalid_1's l2: 0.88603\n",
      "[104]\ttraining's rmse: 0.902872\ttraining's l2: 0.815178\tvalid_1's rmse: 0.941293\tvalid_1's l2: 0.886032\n",
      "[105]\ttraining's rmse: 0.902467\ttraining's l2: 0.814446\tvalid_1's rmse: 0.941251\tvalid_1's l2: 0.885953\n",
      "[106]\ttraining's rmse: 0.902295\ttraining's l2: 0.814135\tvalid_1's rmse: 0.941265\tvalid_1's l2: 0.885979\n",
      "[107]\ttraining's rmse: 0.902082\ttraining's l2: 0.813751\tvalid_1's rmse: 0.941154\tvalid_1's l2: 0.885771\n",
      "[108]\ttraining's rmse: 0.90193\ttraining's l2: 0.813478\tvalid_1's rmse: 0.941319\tvalid_1's l2: 0.886081\n",
      "[109]\ttraining's rmse: 0.901807\ttraining's l2: 0.813256\tvalid_1's rmse: 0.941389\tvalid_1's l2: 0.886214\n",
      "[110]\ttraining's rmse: 0.901608\ttraining's l2: 0.812896\tvalid_1's rmse: 0.941344\tvalid_1's l2: 0.886129\n",
      "[111]\ttraining's rmse: 0.901027\ttraining's l2: 0.81185\tvalid_1's rmse: 0.941345\tvalid_1's l2: 0.88613\n",
      "Early stopping, best iteration is:\n",
      "[101]\ttraining's rmse: 0.903453\ttraining's l2: 0.816227\tvalid_1's rmse: 0.940898\tvalid_1's l2: 0.88529\n"
     ]
    },
    {
     "data": {
      "text/plain": [
       "47.98716497421265"
      ]
     },
     "execution_count": 144,
     "metadata": {},
     "output_type": "execute_result"
    }
   ],
   "source": [
    "ts = time.time()\n",
    "\n",
    "model = LGBMRegressor(\n",
    "    max_depth=8,\n",
    "    n_estimators=1000,\n",
    "    min_child_weight=300, \n",
    "    colsample_bytree=0.8, \n",
    "    subsample=0.8, \n",
    "    eta=0.3,    \n",
    "    seed=42)\n",
    "\n",
    "model.fit(\n",
    "    X_train, \n",
    "    Y_train, \n",
    "    eval_metric=\"rmse\", \n",
    "    eval_set=[(X_train, Y_train), (X_valid, Y_valid)], \n",
    "    verbose=True, \n",
    "    early_stopping_rounds = 10)\n",
    "\n",
    "time.time() - ts"
   ]
  },
  {
   "cell_type": "code",
   "execution_count": 145,
   "metadata": {},
   "outputs": [
    {
     "data": {
      "text/plain": [
       "<matplotlib.axes._subplots.AxesSubplot at 0x7fd199b24898>"
      ]
     },
     "execution_count": 145,
     "metadata": {},
     "output_type": "execute_result"
    },
    {
     "data": {
      "image/png": "[encoded data removed]",
      "text/plain": [
       "<Figure size 720x1008 with 1 Axes>"
      ]
     },
     "metadata": {
      "needs_background": "light"
     },
     "output_type": "display_data"
    }
   ],
   "source": [
    "plot_features(model, (10,14))"
   ]
  },
  {
   "cell_type": "code",
   "execution_count": 146,
   "metadata": {
    "collapsed": true
   },
   "outputs": [],
   "source": [
    "Y_pred = model.predict(X_valid).clip(0, 20)\n",
    "Y_test = model.predict(X_test).clip(0, 20)\n",
    "\n",
    "submission = pd.DataFrame({\n",
    "    \"ID\": test.index, \n",
    "    \"item_cnt_month\": Y_test\n",
    "})\n",
    "submission.to_csv('lgbm_submission_6.csv', index=False)"
   ]
  },
  {
   "cell_type": "code",
   "execution_count": null,
   "metadata": {
    "collapsed": true
   },
   "outputs": [],
   "source": []
  }
 ],
 "metadata": {
  "kernelspec": {
   "display_name": "Python 3",
   "language": "python",
   "name": "python3"
  },
  "language_info": {
   "codemirror_mode": {
    "name": "ipython",
    "version": 3
   },
   "file_extension": ".py",
   "mimetype": "text/x-python",
   "name": "python",
   "nbconvert_exporter": "python",
   "pygments_lexer": "ipython3",
   "version": "3.6.5"
  }
 },
 "nbformat": 4,
 "nbformat_minor": 2
}
