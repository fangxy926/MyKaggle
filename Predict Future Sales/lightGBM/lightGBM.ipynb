{
 "cells": [
  {
   "cell_type": "markdown",
   "metadata": {},
   "source": [
    "## Predict Future Sales"
   ]
  },
  {
   "cell_type": "markdown",
   "metadata": {},
   "source": [
    "### 目录 \n",
    "- **问题描述**\n",
    "- **数据描述**\n",
    "- **数据预处理** \n",
    " - *导入数据*\n",
    " - *数据特征*\n",
    " - *检查异常值*\n",
    " - *处理异常值* \n",
    "- **特征工程**\n",
    " - *特征工程Ⅰ—— 特征拆分*\n",
    " - *特征工程Ⅱ—— 特征聚合*\n",
    " - *特征工程Ⅲ—— lag生成新特征*\n",
    " - *特征工程Ⅳ—— 价格趋势*\n",
    "- **模型建立**\n",
    " - *时间序列模型*\n",
    " - *LSTM*\n",
    " - *XGBRegressor*\n",
    " - *LGBMRegressor*\n",
    "- **模型评估**"
   ]
  },
  {
   "cell_type": "markdown",
   "metadata": {},
   "source": [
    "### 问题描述 \n",
    "#### 根据历史的销售数据，建立一个鲁棒性高的模型，预测每家商店所有商品下一个月的销售量###  \n",
    "  \n",
    "### 数据描述\n",
    "- **sales_train.csv** - 训练集. 历史的每天的销售数据，从2013年1月到2015年10月\n",
    "- **test.csv** - 测试集. 需要预测每家商店每件商店的11月份的销售量.\n",
    "- **sample_submission.csv** - 提交结果的例子.\n",
    "- **items.csv** - 商品的信息.\n",
    "- **item_categories.csv**  - 商品种类的信息.\n",
    "- **shops.csv** - 商店的信息."
   ]
  },
  {
   "cell_type": "code",
   "execution_count": 90,
   "metadata": {},
   "outputs": [
    {
     "data": {
      "text/plain": [
       "sys.version_info(major=3, minor=7, micro=0, releaselevel='final', serial=0)"
      ]
     },
     "execution_count": 90,
     "metadata": {},
     "output_type": "execute_result"
    }
   ],
   "source": [
    "import numpy as np\n",
    "import pandas as pd\n",
    "pd.set_option('display.max_rows', 500)\n",
    "pd.set_option('display.max_columns', 100)\n",
    "\n",
    "from itertools import product\n",
    "from sklearn.preprocessing import LabelEncoder\n",
    "\n",
    "import seaborn as sns\n",
    "import matplotlib.pyplot as plt\n",
    "%matplotlib inline\n",
    "\n",
    "# from xgboost import XGBRegressor\n",
    "# from xgboost import plot_importance\n",
    "from lightgbm import LGBMRegressor\n",
    "from lightgbm import plot_importance\n",
    "\n",
    "def plot_features(booster, figsize):    \n",
    "    fig, ax = plt.subplots(1,1,figsize=figsize)\n",
    "    return plot_importance(booster=booster, ax=ax)\n",
    "\n",
    "import time\n",
    "import sys\n",
    "import gc\n",
    "import pickle\n",
    "from tqdm import tqdm\n",
    "sys.version_info"
   ]
  },
  {
   "cell_type": "markdown",
   "metadata": {},
   "source": [
    "### 数据预处理"
   ]
  },
  {
   "cell_type": "markdown",
   "metadata": {},
   "source": [
    "#### 导入数据\n",
    "----------------------------------------------------------------------------------"
   ]
  },
  {
   "cell_type": "code",
   "execution_count": 140,
   "metadata": {
    "collapsed": true
   },
   "outputs": [],
   "source": [
    "items = pd.read_csv('input/items.csv')\n",
    "shops = pd.read_csv('input/shops.csv')\n",
    "cats = pd.read_csv('input/item_categories.csv')\n",
    "train = pd.read_csv('input/sales_train.csv.gz')\n",
    "test  = pd.read_csv('input/test.csv.gz').set_index('ID')"
   ]
  },
  {
   "cell_type": "markdown",
   "metadata": {},
   "source": [
    "#### 数据特征\n",
    "-----------------------------------------------------------------------------------\n",
    "- ***ID*** - 测试集中(商店，项目)元组的id\n",
    "- ***shop_id***：离散值 - 商店id, [0, 59]\n",
    "- ***item_id***: 离散值 - 商品id, [0, 22169]\n",
    "- ***item_category_id*** - 商品类别id，[0, 84]\n",
    "- ***item_cnt_day*** - 连续值; 商品的销量\n",
    "- ***item_price*** - 连续值; 商品价格\n",
    "- ***date*** - 日期\n",
    "- ***date_block_num*** - 离散值; 日期，2013年1月为0，2013年2月为1..到2015年10月为33.\n",
    "- ***item_name*** - 商品名称\n",
    "- ***shop_name*** - 商店名称\n",
    "- ***item_category_name*** - 类别名称"
   ]
  },
  {
   "cell_type": "code",
   "execution_count": 141,
   "metadata": {},
   "outputs": [
    {
     "data": {
      "text/html": [
       "<div>\n",
       "<style scoped>\n",
       "    .dataframe tbody tr th:only-of-type {\n",
       "        vertical-align: middle;\n",
       "    }\n",
       "\n",
       "    .dataframe tbody tr th {\n",
       "        vertical-align: top;\n",
       "    }\n",
       "\n",
       "    .dataframe thead th {\n",
       "        text-align: right;\n",
       "    }\n",
       "</style>\n",
       "<table border=\"1\" class=\"dataframe\">\n",
       "  <thead>\n",
       "    <tr style=\"text-align: right;\">\n",
       "      <th></th>\n",
       "      <th>date_block_num</th>\n",
       "      <th>shop_id</th>\n",
       "      <th>item_id</th>\n",
       "      <th>item_price</th>\n",
       "      <th>item_cnt_day</th>\n",
       "    </tr>\n",
       "  </thead>\n",
       "  <tbody>\n",
       "    <tr>\n",
       "      <th>count</th>\n",
       "      <td>2.935849e+06</td>\n",
       "      <td>2.935849e+06</td>\n",
       "      <td>2.935849e+06</td>\n",
       "      <td>2.935849e+06</td>\n",
       "      <td>2.935849e+06</td>\n",
       "    </tr>\n",
       "    <tr>\n",
       "      <th>mean</th>\n",
       "      <td>1.456991e+01</td>\n",
       "      <td>3.300173e+01</td>\n",
       "      <td>1.019723e+04</td>\n",
       "      <td>8.908532e+02</td>\n",
       "      <td>1.242641e+00</td>\n",
       "    </tr>\n",
       "    <tr>\n",
       "      <th>std</th>\n",
       "      <td>9.422988e+00</td>\n",
       "      <td>1.622697e+01</td>\n",
       "      <td>6.324297e+03</td>\n",
       "      <td>1.729800e+03</td>\n",
       "      <td>2.618834e+00</td>\n",
       "    </tr>\n",
       "    <tr>\n",
       "      <th>min</th>\n",
       "      <td>0.000000e+00</td>\n",
       "      <td>0.000000e+00</td>\n",
       "      <td>0.000000e+00</td>\n",
       "      <td>-1.000000e+00</td>\n",
       "      <td>-2.200000e+01</td>\n",
       "    </tr>\n",
       "    <tr>\n",
       "      <th>25%</th>\n",
       "      <td>7.000000e+00</td>\n",
       "      <td>2.200000e+01</td>\n",
       "      <td>4.476000e+03</td>\n",
       "      <td>2.490000e+02</td>\n",
       "      <td>1.000000e+00</td>\n",
       "    </tr>\n",
       "    <tr>\n",
       "      <th>50%</th>\n",
       "      <td>1.400000e+01</td>\n",
       "      <td>3.100000e+01</td>\n",
       "      <td>9.343000e+03</td>\n",
       "      <td>3.990000e+02</td>\n",
       "      <td>1.000000e+00</td>\n",
       "    </tr>\n",
       "    <tr>\n",
       "      <th>75%</th>\n",
       "      <td>2.300000e+01</td>\n",
       "      <td>4.700000e+01</td>\n",
       "      <td>1.568400e+04</td>\n",
       "      <td>9.990000e+02</td>\n",
       "      <td>1.000000e+00</td>\n",
       "    </tr>\n",
       "    <tr>\n",
       "      <th>max</th>\n",
       "      <td>3.300000e+01</td>\n",
       "      <td>5.900000e+01</td>\n",
       "      <td>2.216900e+04</td>\n",
       "      <td>3.079800e+05</td>\n",
       "      <td>2.169000e+03</td>\n",
       "    </tr>\n",
       "  </tbody>\n",
       "</table>\n",
       "</div>"
      ],
      "text/plain": [
       "       date_block_num       shop_id       item_id    item_price  item_cnt_day\n",
       "count    2.935849e+06  2.935849e+06  2.935849e+06  2.935849e+06  2.935849e+06\n",
       "mean     1.456991e+01  3.300173e+01  1.019723e+04  8.908532e+02  1.242641e+00\n",
       "std      9.422988e+00  1.622697e+01  6.324297e+03  1.729800e+03  2.618834e+00\n",
       "min      0.000000e+00  0.000000e+00  0.000000e+00 -1.000000e+00 -2.200000e+01\n",
       "25%      7.000000e+00  2.200000e+01  4.476000e+03  2.490000e+02  1.000000e+00\n",
       "50%      1.400000e+01  3.100000e+01  9.343000e+03  3.990000e+02  1.000000e+00\n",
       "75%      2.300000e+01  4.700000e+01  1.568400e+04  9.990000e+02  1.000000e+00\n",
       "max      3.300000e+01  5.900000e+01  2.216900e+04  3.079800e+05  2.169000e+03"
      ]
     },
     "execution_count": 141,
     "metadata": {},
     "output_type": "execute_result"
    }
   ],
   "source": [
    "train.describe()"
   ]
  },
  {
   "cell_type": "code",
   "execution_count": 142,
   "metadata": {},
   "outputs": [
    {
     "name": "stdout",
     "output_type": "stream",
     "text": [
      "<class 'pandas.core.frame.DataFrame'>\n",
      "RangeIndex: 2935849 entries, 0 to 2935848\n",
      "Data columns (total 6 columns):\n",
      "date              object\n",
      "date_block_num    int64\n",
      "shop_id           int64\n",
      "item_id           int64\n",
      "item_price        float64\n",
      "item_cnt_day      float64\n",
      "dtypes: float64(2), int64(3), object(1)\n",
      "memory usage: 134.4+ MB\n"
     ]
    }
   ],
   "source": [
    "train.info()"
   ]
  },
  {
   "cell_type": "markdown",
   "metadata": {},
   "source": [
    "#### 检查异常值\n",
    "----------------------------------------------------------------------------------\n",
    "- 绘制特征***item_cnt_day***的箱式图  \n",
    "    ***item_cnt_day***存在异常值，即销量超过1000\n",
    "- 绘制特征***item_price***的箱式图  \n",
    "    ***item_price***存在异常值，即价格超过300000的商品\n",
    "- 存在某个item的价格低于0 "
   ]
  },
  {
   "cell_type": "code",
   "execution_count": 143,
   "metadata": {},
   "outputs": [
    {
     "data": {
      "text/plain": [
       "<matplotlib.axes._subplots.AxesSubplot at 0x7f21ba575588>"
      ]
     },
     "execution_count": 143,
     "metadata": {},
     "output_type": "execute_result"
    },
    {
     "data": {
      "image/png": "[encoded data removed]",
      "text/plain": [
       "<Figure size 720x288 with 1 Axes>"
      ]
     },
     "metadata": {
      "needs_background": "light"
     },
     "output_type": "display_data"
    },
    {
     "data": {
      "image/png": "[encoded data removed]",
      "text/plain": [
       "<Figure size 720x288 with 1 Axes>"
      ]
     },
     "metadata": {
      "needs_background": "light"
     },
     "output_type": "display_data"
    }
   ],
   "source": [
    "plt.figure(figsize=(10, 4))\n",
    "plt.xlim(-100, 3000)\n",
    "sns.boxplot(x=train.item_cnt_day)\n",
    "\n",
    "plt.figure(figsize=(10, 4))\n",
    "plt.xlim(train.item_price.min(), train.item_price.max()*1.1)\n",
    "sns.boxplot(x=train.item_price)"
   ]
  },
  {
   "cell_type": "markdown",
   "metadata": {},
   "source": [
    "####  处理异常值\n",
    "----------------------------------------------------------------------------------\n",
    "- 去除商品价格大于100000的商品记录\n",
    "- 去除商品销量大于1000的商品记录\n",
    "- 用商品价格的中位数去替换商品价格小于0的商品记录"
   ]
  },
  {
   "cell_type": "code",
   "execution_count": 92,
   "metadata": {
    "collapsed": true
   },
   "outputs": [],
   "source": [
    "train = train[train.item_price<100000]\n",
    "train = train[train.item_cnt_day<1001]"
   ]
  },
  {
   "cell_type": "code",
   "execution_count": 93,
   "metadata": {
    "collapsed": true
   },
   "outputs": [],
   "source": [
    "median = train[(train.shop_id==32)&(train.item_id==2973)&(train.date_block_num==4)&(train.item_price>0)].item_price.median()\n",
    "train.loc[train.item_price<0, 'item_price'] = median"
   ]
  },
  {
   "cell_type": "code",
   "execution_count": 94,
   "metadata": {
    "collapsed": true
   },
   "outputs": [],
   "source": [
    "# Якутск Орджоникидзе, 56\n",
    "train.loc[train.shop_id == 0, 'shop_id'] = 57\n",
    "test.loc[test.shop_id == 0, 'shop_id'] = 57\n",
    "# Якутск ТЦ \"Центральный\"\n",
    "train.loc[train.shop_id == 1, 'shop_id'] = 58\n",
    "test.loc[test.shop_id == 1, 'shop_id'] = 58\n",
    "# Жуковский ул. Чкалова 39м²\n",
    "train.loc[train.shop_id == 10, 'shop_id'] = 11\n",
    "test.loc[test.shop_id == 10, 'shop_id'] = 11"
   ]
  },
  {
   "cell_type": "markdown",
   "metadata": {},
   "source": [
    "### 特征工程Ⅰ\n",
    "------------------------------------------------------------------------------\n",
    "- 商店名字中，***shop_name***中前面是城市名，将其提取出来，单独作为特征***city***\n",
    "- 商品类别中，***type***中前面是商品种类，后面是第二类别，将其划分为***type***和***subtype***两个特征\n",
    "- 商品类别中，根据***ttem_category_name***将商品划分为12种大类\n",
    "- 将以上的特征利用LabelEnconder编码成离散值\n",
    "- 去掉商品的***item_name***特征"
   ]
  },
  {
   "cell_type": "code",
   "execution_count": 95,
   "metadata": {
    "collapsed": true
   },
   "outputs": [],
   "source": [
    "shops.loc[shops.shop_name == 'Сергиев Посад ТЦ \"7Я\"', 'shop_name'] = 'СергиевПосад ТЦ \"7Я\"'\n",
    "shops['city'] = shops['shop_name'].str.split(' ').map(lambda x: x[0])\n",
    "shops.loc[shops.city == '!Якутск', 'city'] = 'Якутск'\n",
    "shops['city_code'] = LabelEncoder().fit_transform(shops['city'])\n",
    "shops = shops[['shop_id','city_code']]"
   ]
  },
  {
   "cell_type": "code",
   "execution_count": 96,
   "metadata": {
    "collapsed": true
   },
   "outputs": [],
   "source": [
    "l_cat = list(cats.item_category_name)\n",
    "\n",
    "for ind in range(0,1):\n",
    "    l_cat[ind] = 'PC Headsets / Headphones'\n",
    "for ind in range(1,8):\n",
    "    l_cat[ind] = 'Access'\n",
    "l_cat[8] = 'Tickets (figure)'\n",
    "l_cat[9] = 'Delivery of goods'\n",
    "for ind in range(10,18):\n",
    "    l_cat[ind] = 'Consoles'\n",
    "for ind in range(18,25):\n",
    "    l_cat[ind] = 'Consoles Games'\n",
    "l_cat[25] = 'Accessories for games'\n",
    "for ind in range(26,28):\n",
    "    l_cat[ind] = 'phone games'\n",
    "for ind in range(28,32):\n",
    "    l_cat[ind] = 'CD games'\n",
    "for ind in range(32,37):\n",
    "    l_cat[ind] = 'Card'\n",
    "for ind in range(37,43):\n",
    "    l_cat[ind] = 'Movie'\n",
    "for ind in range(43,55):\n",
    "    l_cat[ind] = 'Books'\n",
    "for ind in range(55,61):\n",
    "    l_cat[ind] = 'Music'\n",
    "for ind in range(61,73):\n",
    "    l_cat[ind] = 'Gifts'\n",
    "for ind in range(73,79):\n",
    "    l_cat[ind] = 'Soft'\n",
    "for ind in range(79,81):\n",
    "    l_cat[ind] = 'Office'\n",
    "for ind in range(81,83):\n",
    "    l_cat[ind] = 'Clean'\n",
    "l_cat[83] = 'Elements of a food'"
   ]
  },
  {
   "cell_type": "code",
   "execution_count": 97,
   "metadata": {
    "collapsed": true
   },
   "outputs": [],
   "source": [
    "from sklearn import preprocessing\n",
    "lb = preprocessing.LabelEncoder()\n",
    "cats['item_cat_id_fix'] = lb.fit_transform(l_cat)"
   ]
  },
  {
   "cell_type": "code",
   "execution_count": 98,
   "metadata": {
    "collapsed": true
   },
   "outputs": [],
   "source": [
    "cats['split'] = cats['item_category_name'].str.split('-')\n",
    "cats['type'] = cats['split'].map(lambda x: x[0].strip())\n",
    "cats['type_code'] = LabelEncoder().fit_transform(cats['type'])\n",
    "cats['subtype'] = cats['split'].map(lambda x: x[1].strip() if len(x) > 1 else x[0].strip())\n",
    "cats['subtype_code'] = LabelEncoder().fit_transform(cats['subtype'])\n",
    "cats = cats[['item_category_id','type_code', 'subtype_code', 'item_cat_id_fix']]"
   ]
  },
  {
   "cell_type": "code",
   "execution_count": 99,
   "metadata": {
    "collapsed": true
   },
   "outputs": [],
   "source": [
    "items.drop(['item_name'], axis=1, inplace=True)"
   ]
  },
  {
   "cell_type": "markdown",
   "metadata": {},
   "source": [
    "### 特征工程Ⅱ\n",
    "------------------------------------------------------------------------------\n",
    "- 产生商品和商店之间的关联，每个商品和商店形成一个pair。因为题目中提到商店和产品每个月都会发生变化，且要预测是下个月的销量，所以利用笛卡儿积构建每个月里的商店和商品之间的关联。\n",
    "- 因为是预测各个商品下个月的销量，而***train***数据集中给出的特征是每天的销量，需要对其进行sum聚合，得到***item_cnt_month***特征\n",
    "- train数据集中有***item_price***和***item_item_cnt_day***特征，可以构建每日的收入特征***revenue***\n",
    "- test数据集中加入***date_block_num***特征，设为默认值为下一月的值：34\n",
    "- 将test数据集加入到train数据集当中，并且将shops，cats，items数据集合并进来"
   ]
  },
  {
   "cell_type": "code",
   "execution_count": 100,
   "metadata": {
    "collapsed": true
   },
   "outputs": [],
   "source": [
    "matrix = []\n",
    "cols = ['date_block_num','shop_id','item_id']\n",
    "for i in range(34):\n",
    "    sales = train[train.date_block_num==i]\n",
    "    matrix.append(np.array(list(product([i], sales.shop_id.unique(), sales.item_id.unique())), dtype='int16'))\n",
    "    \n",
    "matrix = pd.DataFrame(np.vstack(matrix), columns=cols)\n",
    "matrix['date_block_num'] = matrix['date_block_num'].astype(np.int8)\n",
    "matrix['shop_id'] = matrix['shop_id'].astype(np.int8)\n",
    "matrix['item_id'] = matrix['item_id'].astype(np.int16)\n",
    "matrix.sort_values(cols,inplace=True)"
   ]
  },
  {
   "cell_type": "code",
   "execution_count": 101,
   "metadata": {
    "collapsed": true
   },
   "outputs": [],
   "source": [
    "train['revenue'] = train['item_price'] *  train['item_cnt_day']"
   ]
  },
  {
   "cell_type": "code",
   "execution_count": 102,
   "metadata": {
    "collapsed": true
   },
   "outputs": [],
   "source": [
    "test_nrow = test.shape[0]\n",
    "train = train.merge(test[['shop_id']].drop_duplicates(), how = 'inner')\n",
    "train['date'] = pd.to_datetime(train['date'], format = '%d.%m.%Y')"
   ]
  },
  {
   "cell_type": "code",
   "execution_count": 103,
   "metadata": {
    "collapsed": true
   },
   "outputs": [],
   "source": [
    "from itertools import product\n",
    "grid = []\n",
    "for block_num in train['date_block_num'].unique():\n",
    "    cur_shops = train[train['date_block_num']==block_num]['shop_id'].unique()\n",
    "    cur_items = train[train['date_block_num']==block_num]['item_id'].unique()\n",
    "    grid.append(np.array(list(product(*[cur_shops, cur_items, [block_num]])),dtype='int32'))"
   ]
  },
  {
   "cell_type": "code",
   "execution_count": 104,
   "metadata": {
    "collapsed": true
   },
   "outputs": [],
   "source": [
    "index_cols = ['shop_id', 'item_id', 'date_block_num']\n",
    "grid = pd.DataFrame(np.vstack(grid), columns = index_cols,dtype=np.int32)"
   ]
  },
  {
   "cell_type": "code",
   "execution_count": 105,
   "metadata": {
    "collapsed": true
   },
   "outputs": [],
   "source": [
    "index_cols = ['shop_id', 'item_id', 'date_block_num']\n",
    "train['item_cnt_day'] = train['item_cnt_day'].clip(0,20)\n",
    "gb_cnt = train.groupby(index_cols)['item_cnt_day'].agg(['sum']).reset_index().rename(columns = {'sum': 'item_cnt_month'})\n",
    "gb_cnt['item_cnt_month'] = gb_cnt['item_cnt_month'].clip(0,20).astype(np.int)\n",
    "matrix = pd.merge(grid,gb_cnt,how='left',on=index_cols).fillna(0)\n",
    "matrix['item_cnt_month'] = matrix['item_cnt_month'].astype(int)"
   ]
  },
  {
   "cell_type": "code",
   "execution_count": 106,
   "metadata": {
    "collapsed": true
   },
   "outputs": [],
   "source": [
    "test['date_block_num'] = 34\n",
    "test['date_block_num'] = test['date_block_num'].astype(np.int8)\n",
    "test['shop_id'] = test['shop_id'].astype(np.int8)\n",
    "test['item_id'] = test['item_id'].astype(np.int16)"
   ]
  },
  {
   "cell_type": "code",
   "execution_count": 107,
   "metadata": {
    "collapsed": true
   },
   "outputs": [],
   "source": [
    "matrix = pd.concat([matrix, test], ignore_index=True, sort=False, keys=cols)\n",
    "matrix.fillna(0, inplace=True)"
   ]
  },
  {
   "cell_type": "code",
   "execution_count": 108,
   "metadata": {
    "collapsed": true
   },
   "outputs": [],
   "source": [
    "matrix = pd.merge(matrix, shops, on=['shop_id'], how='left')\n",
    "matrix = pd.merge(matrix, items, on=['item_id'], how='left')\n",
    "matrix = pd.merge(matrix, cats, on=['item_category_id'], how='left')\n",
    "matrix['city_code'] = matrix['city_code'].astype(np.int8)\n",
    "matrix['item_category_id'] = matrix['item_category_id'].astype(np.int8)\n",
    "matrix['type_code'] = matrix['type_code'].astype(np.int8)\n",
    "matrix['subtype_code'] = matrix['subtype_code'].astype(np.int8)\n",
    "matrix['item_cat_id_fix'] = matrix['item_cat_id_fix'].astype(np.int8)"
   ]
  },
  {
   "cell_type": "markdown",
   "metadata": {},
   "source": [
    "### 特征工程Ⅲ\n",
    "------------------------------------------------------------------------------ \n",
    "- 定义*lag_feature*函数，用于将时间序列数据集中的某些特征的滞后处理，产生新的特征。即将某些属性滞后，将前一时间步的值作为新的特征值，或者可以做Multi-Step\n",
    "- 将***item_cnt_month***特征滞后1到12个月，产生12个新的特征，利用xgboost的回归，初步训练模型，得到新的特征的***importance***值，可以筛选出第1,2,3,6特征作为新的特征\n",
    "- 将***item_cnt_month***关于***data_block_num***分组，再进行mean聚合，即得到全部商品每个月的平均销量,生成***date_avg_item_cnt***特征，再对该新特征进行滞后，滞后步长分别设为1, 2, 3, 6, 12，再利用lightgbm的回归模型尝试训练，将得到模型进行参数评估，选取了滞后1, 2, 3产生的新特征\n",
    "- 将***item_cnt_month***关于***data_block_num***,***item_id***分组，再进行mean聚合，即得到每个月每个商品的平均销量，生成***data_item_avg_item_cnt***特征，再对该新特征进行滞后，滞后步长分别设为1到12，再利用lightgbm的回归模型尝试训练，将得到的模型进行参数评估，选取了滞后1,2,4时间步产生的新特征\n",
    "- 同上面的操作，分别对shop_id,item_category_id,type_code,subtype_code做与data_block_num相关的聚合操作，并进行滞后，筛选了其中importance较高的新特征"
   ]
  },
  {
   "cell_type": "markdown",
   "metadata": {},
   "source": [
    "**item_cnt_month特征评估**\n",
    "![avatar](date_avg_item_cnt.png)"
   ]
  },
  {
   "cell_type": "markdown",
   "metadata": {},
   "source": [
    "**Output:**\n",
    "<table>\n",
    "    <tr>\n",
    "        <td>\n",
    "        **Valid Accuracy**\n",
    "        </td>\n",
    "        <td>\n",
    "          0.900911\n",
    "        </td>\n",
    "    <tr>\n",
    "        <td>\n",
    "        **Test Accuracy**\n",
    "        </td>\n",
    "        <td>\n",
    "        0.97235\n",
    "        </td>\n",
    "    </tr>\n",
    "</table>"
   ]
  },
  {
   "cell_type": "code",
   "execution_count": 109,
   "metadata": {
    "collapsed": true
   },
   "outputs": [],
   "source": [
    "def lag_feature(df, lags, col):\n",
    "    tmp = df[['date_block_num','shop_id','item_id',col]]\n",
    "    for i in lags:\n",
    "        shifted = tmp.copy()\n",
    "        shifted.columns = ['date_block_num','shop_id','item_id', col+'_lag_'+str(i)]\n",
    "        shifted['date_block_num'] += i\n",
    "        df = pd.merge(df, shifted, on=['date_block_num','shop_id','item_id'], how='left')\n",
    "    return df"
   ]
  },
  {
   "cell_type": "code",
   "execution_count": 110,
   "metadata": {
    "collapsed": true
   },
   "outputs": [],
   "source": [
    "matrix = lag_feature(matrix, [1,2,3,6,12], 'item_cnt_month')"
   ]
  },
  {
   "cell_type": "markdown",
   "metadata": {},
   "source": [
    "**date_item_avg_item_cnt特征评估**\n",
    "![avatar](date_item_avg_item_cnt.png)"
   ]
  },
  {
   "cell_type": "markdown",
   "metadata": {},
   "source": [
    "**Output:**\n",
    "<table>\n",
    "    <tr>\n",
    "        <td>\n",
    "        **Valid Accuracy**\n",
    "        </td>\n",
    "        <td>\n",
    "          0.943278\n",
    "        </td>\n",
    "    <tr>\n",
    "        <td>\n",
    "        **Test Accuracy**\n",
    "        </td>\n",
    "        <td>\n",
    "        0.95889\n",
    "        </td>\n",
    "    </tr>\n",
    "</table>"
   ]
  },
  {
   "cell_type": "code",
   "execution_count": 111,
   "metadata": {
    "collapsed": true
   },
   "outputs": [],
   "source": [
    "group = matrix.groupby(['date_block_num']).agg({'item_cnt_month': ['mean']})\n",
    "group.columns = [ 'date_avg_item_cnt' ]\n",
    "group.reset_index(inplace=True)\n",
    "\n",
    "matrix = pd.merge(matrix, group, on=['date_block_num'], how='left')\n",
    "matrix['date_avg_item_cnt'] = matrix['date_avg_item_cnt'].astype(np.float16)\n",
    "matrix = lag_feature(matrix, [1], 'date_avg_item_cnt')\n",
    "matrix.drop(['date_avg_item_cnt'], axis=1, inplace=True)"
   ]
  },
  {
   "cell_type": "code",
   "execution_count": 112,
   "metadata": {
    "collapsed": true
   },
   "outputs": [],
   "source": [
    "group = matrix.groupby(['date_block_num', 'item_id']).agg({'item_cnt_month': ['mean']})\n",
    "group.columns = [ 'date_item_avg_item_cnt' ]\n",
    "group.reset_index(inplace=True)\n",
    "\n",
    "matrix = pd.merge(matrix, group, on=['date_block_num','item_id'], how='left')\n",
    "matrix['date_item_avg_item_cnt'] = matrix['date_item_avg_item_cnt'].astype(np.float16)\n",
    "matrix = lag_feature(matrix, [1,2,3,6,12], 'date_item_avg_item_cnt')\n",
    "matrix.drop(['date_item_avg_item_cnt'], axis=1, inplace=True)"
   ]
  },
  {
   "cell_type": "code",
   "execution_count": 113,
   "metadata": {
    "collapsed": true
   },
   "outputs": [],
   "source": [
    "group = matrix.groupby(['date_block_num', 'shop_id']).agg({'item_cnt_month': ['mean']})\n",
    "group.columns = [ 'date_shop_avg_item_cnt' ]\n",
    "group.reset_index(inplace=True)\n",
    "\n",
    "matrix = pd.merge(matrix, group, on=['date_block_num','shop_id'], how='left')\n",
    "matrix['date_shop_avg_item_cnt'] = matrix['date_shop_avg_item_cnt'].astype(np.float16)\n",
    "matrix = lag_feature(matrix, [1,2,3,6,12], 'date_shop_avg_item_cnt')\n",
    "matrix.drop(['date_shop_avg_item_cnt'], axis=1, inplace=True)"
   ]
  },
  {
   "cell_type": "code",
   "execution_count": 114,
   "metadata": {
    "collapsed": true
   },
   "outputs": [],
   "source": [
    "group = matrix.groupby(['date_block_num', 'item_category_id']).agg({'item_cnt_month': ['mean']})\n",
    "group.columns = [ 'date_cat_avg_item_cnt' ]\n",
    "group.reset_index(inplace=True)\n",
    "\n",
    "matrix = pd.merge(matrix, group, on=['date_block_num','item_category_id'], how='left')\n",
    "matrix['date_cat_avg_item_cnt'] = matrix['date_cat_avg_item_cnt'].astype(np.float16)\n",
    "matrix = lag_feature(matrix, [1], 'date_cat_avg_item_cnt')\n",
    "matrix.drop(['date_cat_avg_item_cnt'], axis=1, inplace=True)"
   ]
  },
  {
   "cell_type": "code",
   "execution_count": 115,
   "metadata": {
    "collapsed": true
   },
   "outputs": [],
   "source": [
    "group = matrix.groupby(['date_block_num', 'item_cat_id_fix']).agg({'item_cnt_month': ['mean']})\n",
    "group.columns = [ 'date_cat_fix_avg_item_cnt' ]\n",
    "group.reset_index(inplace=True)\n",
    "\n",
    "matrix = pd.merge(matrix, group, on=['date_block_num','item_cat_id_fix'], how='left')\n",
    "matrix['date_cat_fix_avg_item_cnt'] = matrix['date_cat_fix_avg_item_cnt'].astype(np.float16)\n",
    "matrix = lag_feature(matrix, [1], 'date_cat_fix_avg_item_cnt')\n",
    "matrix.drop(['date_cat_fix_avg_item_cnt'], axis=1, inplace=True)"
   ]
  },
  {
   "cell_type": "code",
   "execution_count": 116,
   "metadata": {
    "collapsed": true
   },
   "outputs": [],
   "source": [
    "group = matrix.groupby(['date_block_num', 'shop_id', 'item_cat_id_fix']).agg({'item_cnt_month': ['mean']})\n",
    "group.columns = ['date_shop_cat_fix_avg_item_cnt']\n",
    "group.reset_index(inplace=True)\n",
    "\n",
    "matrix = pd.merge(matrix, group, on=['date_block_num', 'shop_id', 'item_cat_id_fix'], how='left')\n",
    "matrix['date_shop_cat_fix_avg_item_cnt'] = matrix['date_shop_cat_fix_avg_item_cnt'].astype(np.float16)\n",
    "matrix = lag_feature(matrix, [1], 'date_shop_cat_fix_avg_item_cnt')\n",
    "matrix.drop(['date_shop_cat_fix_avg_item_cnt'], axis=1, inplace=True)"
   ]
  },
  {
   "cell_type": "code",
   "execution_count": 117,
   "metadata": {
    "collapsed": true
   },
   "outputs": [],
   "source": [
    "group = matrix.groupby(['date_block_num', 'shop_id', 'item_category_id']).agg({'item_cnt_month': ['mean']})\n",
    "group.columns = ['date_shop_cat_avg_item_cnt']\n",
    "group.reset_index(inplace=True)\n",
    "\n",
    "matrix = pd.merge(matrix, group, on=['date_block_num', 'shop_id', 'item_category_id'], how='left')\n",
    "matrix['date_shop_cat_avg_item_cnt'] = matrix['date_shop_cat_avg_item_cnt'].astype(np.float16)\n",
    "matrix = lag_feature(matrix, [1], 'date_shop_cat_avg_item_cnt')\n",
    "matrix.drop(['date_shop_cat_avg_item_cnt'], axis=1, inplace=True)"
   ]
  },
  {
   "cell_type": "code",
   "execution_count": 118,
   "metadata": {
    "collapsed": true
   },
   "outputs": [],
   "source": [
    "group = matrix.groupby(['date_block_num', 'shop_id', 'type_code']).agg({'item_cnt_month': ['mean']})\n",
    "group.columns = ['date_shop_type_avg_item_cnt']\n",
    "group.reset_index(inplace=True)\n",
    "\n",
    "matrix = pd.merge(matrix, group, on=['date_block_num', 'shop_id', 'type_code'], how='left')\n",
    "matrix['date_shop_type_avg_item_cnt'] = matrix['date_shop_type_avg_item_cnt'].astype(np.float16)\n",
    "matrix = lag_feature(matrix, [1], 'date_shop_type_avg_item_cnt')\n",
    "matrix.drop(['date_shop_type_avg_item_cnt'], axis=1, inplace=True)"
   ]
  },
  {
   "cell_type": "code",
   "execution_count": 119,
   "metadata": {
    "collapsed": true
   },
   "outputs": [],
   "source": [
    "group = matrix.groupby(['date_block_num', 'shop_id', 'subtype_code']).agg({'item_cnt_month': ['mean']})\n",
    "group.columns = ['date_shop_subtype_avg_item_cnt']\n",
    "group.reset_index(inplace=True)\n",
    "\n",
    "matrix = pd.merge(matrix, group, on=['date_block_num', 'shop_id', 'subtype_code'], how='left')\n",
    "matrix['date_shop_subtype_avg_item_cnt'] = matrix['date_shop_subtype_avg_item_cnt'].astype(np.float16)\n",
    "matrix = lag_feature(matrix, [1], 'date_shop_subtype_avg_item_cnt')\n",
    "matrix.drop(['date_shop_subtype_avg_item_cnt'], axis=1, inplace=True)"
   ]
  },
  {
   "cell_type": "code",
   "execution_count": 120,
   "metadata": {
    "collapsed": true
   },
   "outputs": [],
   "source": [
    "group = matrix.groupby(['date_block_num', 'city_code']).agg({'item_cnt_month': ['mean']})\n",
    "group.columns = [ 'date_city_avg_item_cnt' ]\n",
    "group.reset_index(inplace=True)\n",
    "\n",
    "matrix = pd.merge(matrix, group, on=['date_block_num', 'city_code'], how='left')\n",
    "matrix['date_city_avg_item_cnt'] = matrix['date_city_avg_item_cnt'].astype(np.float16)\n",
    "matrix = lag_feature(matrix, [1], 'date_city_avg_item_cnt')\n",
    "matrix.drop(['date_city_avg_item_cnt'], axis=1, inplace=True)"
   ]
  },
  {
   "cell_type": "code",
   "execution_count": 121,
   "metadata": {
    "collapsed": true
   },
   "outputs": [],
   "source": [
    "group = matrix.groupby(['date_block_num', 'item_id', 'city_code']).agg({'item_cnt_month': ['mean']})\n",
    "group.columns = [ 'date_item_city_avg_item_cnt' ]\n",
    "group.reset_index(inplace=True)\n",
    "\n",
    "matrix = pd.merge(matrix, group, on=['date_block_num', 'item_id', 'city_code'], how='left')\n",
    "matrix['date_item_city_avg_item_cnt'] = matrix['date_item_city_avg_item_cnt'].astype(np.float16)\n",
    "matrix = lag_feature(matrix, [1], 'date_item_city_avg_item_cnt')\n",
    "matrix.drop(['date_item_city_avg_item_cnt'], axis=1, inplace=True)"
   ]
  },
  {
   "cell_type": "code",
   "execution_count": 122,
   "metadata": {
    "collapsed": true
   },
   "outputs": [],
   "source": [
    "group = matrix.groupby(['date_block_num', 'type_code']).agg({'item_cnt_month': ['mean']})\n",
    "group.columns = [ 'date_type_avg_item_cnt' ]\n",
    "group.reset_index(inplace=True)\n",
    "\n",
    "matrix = pd.merge(matrix, group, on=['date_block_num', 'type_code'], how='left')\n",
    "matrix['date_type_avg_item_cnt'] = matrix['date_type_avg_item_cnt'].astype(np.float16)\n",
    "matrix = lag_feature(matrix, [1], 'date_type_avg_item_cnt')\n",
    "matrix.drop(['date_type_avg_item_cnt'], axis=1, inplace=True)"
   ]
  },
  {
   "cell_type": "code",
   "execution_count": 123,
   "metadata": {
    "collapsed": true
   },
   "outputs": [],
   "source": [
    "group = matrix.groupby(['date_block_num', 'subtype_code']).agg({'item_cnt_month': ['mean']})\n",
    "group.columns = [ 'date_subtype_avg_item_cnt' ]\n",
    "group.reset_index(inplace=True)\n",
    "\n",
    "matrix = pd.merge(matrix, group, on=['date_block_num', 'subtype_code'], how='left')\n",
    "matrix['date_subtype_avg_item_cnt'] = matrix['date_subtype_avg_item_cnt'].astype(np.float16)\n",
    "matrix = lag_feature(matrix, [1], 'date_subtype_avg_item_cnt')\n",
    "matrix.drop(['date_subtype_avg_item_cnt'], axis=1, inplace=True)"
   ]
  },
  {
   "cell_type": "markdown",
   "metadata": {},
   "source": [
    "### 特征工程Ⅳ\n",
    "------------------------------------------------------------------------------ \n",
    "- 计算商品的平均价格**item_avg_item_price**，商品每个月的商品价格**date_item_avg_item_price**，并对属性**date_item_avg_item_price**进行lag处理生成，滞后1到6个月的相关特征\n",
    "- 计算商店每个月的总收入**date_shop_revenue**，计算商店的平均收入**shop_avg_revenue**\n",
    "- 计算每件商品上一次销售距离当前的时间**item_last_sale**\n",
    "- 计算每个商店每件商品上一次销售距离当前时间**item_shop_last_sale**"
   ]
  },
  {
   "cell_type": "code",
   "execution_count": 124,
   "metadata": {
    "collapsed": true
   },
   "outputs": [],
   "source": [
    "group = train.groupby(['item_id']).agg({'item_price': ['mean']})\n",
    "group.columns = ['item_avg_item_price']\n",
    "group.reset_index(inplace=True)\n",
    "\n",
    "matrix = pd.merge(matrix, group, on=['item_id'], how='left')\n",
    "matrix['item_avg_item_price'] = matrix['item_avg_item_price'].astype(np.float16)\n",
    "\n",
    "group = train.groupby(['date_block_num','item_id']).agg({'item_price': ['mean']})\n",
    "group.columns = ['date_item_avg_item_price']\n",
    "group.reset_index(inplace=True)\n",
    "\n",
    "matrix = pd.merge(matrix, group, on=['date_block_num','item_id'], how='left')\n",
    "matrix['date_item_avg_item_price'] = matrix['date_item_avg_item_price'].astype(np.float16)\n",
    "\n",
    "lags = [1,2,3,4,5,6]\n",
    "matrix = lag_feature(matrix, lags, 'date_item_avg_item_price')\n",
    "\n",
    "for i in lags:\n",
    "    matrix['delta_price_lag_'+str(i)] = (matrix['date_item_avg_item_price_lag_'+str(i)] - matrix['item_avg_item_price']) / matrix['item_avg_item_price']\n",
    "\n",
    "def select_trend(row):\n",
    "    for i in lags:\n",
    "        if row['delta_price_lag_'+str(i)]:\n",
    "            return row['delta_price_lag_'+str(i)]\n",
    "    return 0\n",
    "    \n",
    "matrix['delta_price_lag'] = matrix.apply(select_trend, axis=1)\n",
    "matrix['delta_price_lag'] = matrix['delta_price_lag'].astype(np.float16)\n",
    "matrix['delta_price_lag'].fillna(0, inplace=True)\n",
    "\n",
    "fetures_to_drop = ['item_avg_item_price', 'date_item_avg_item_price']\n",
    "for i in lags:\n",
    "    fetures_to_drop += ['date_item_avg_item_price_lag_'+str(i)]\n",
    "    fetures_to_drop += ['delta_price_lag_'+str(i)]\n",
    "\n",
    "matrix.drop(fetures_to_drop, axis=1, inplace=True)"
   ]
  },
  {
   "cell_type": "code",
   "execution_count": 125,
   "metadata": {
    "collapsed": true
   },
   "outputs": [],
   "source": [
    "group = train.groupby(['date_block_num','shop_id']).agg({'revenue': ['sum']})\n",
    "group.columns = ['date_shop_revenue']\n",
    "group.reset_index(inplace=True)\n",
    "\n",
    "matrix = pd.merge(matrix, group, on=['date_block_num','shop_id'], how='left')\n",
    "matrix['date_shop_revenue'] = matrix['date_shop_revenue'].astype(np.float32)\n",
    "\n",
    "group = group.groupby(['shop_id']).agg({'date_shop_revenue': ['mean']})\n",
    "group.columns = ['shop_avg_revenue']\n",
    "group.reset_index(inplace=True)\n",
    "\n",
    "matrix = pd.merge(matrix, group, on=['shop_id'], how='left')\n",
    "matrix['shop_avg_revenue'] = matrix['shop_avg_revenue'].astype(np.float32)\n",
    "\n",
    "matrix['delta_revenue'] = (matrix['date_shop_revenue'] - matrix['shop_avg_revenue']) / matrix['shop_avg_revenue']\n",
    "matrix['delta_revenue'] = matrix['delta_revenue'].astype(np.float16)\n",
    "\n",
    "matrix = lag_feature(matrix, [1], 'delta_revenue')\n",
    "\n",
    "matrix.drop(['date_shop_revenue','shop_avg_revenue','delta_revenue'], axis=1, inplace=True)"
   ]
  },
  {
   "cell_type": "code",
   "execution_count": 126,
   "metadata": {
    "collapsed": true
   },
   "outputs": [],
   "source": [
    "matrix['month'] = matrix['date_block_num'] % 12"
   ]
  },
  {
   "cell_type": "code",
   "execution_count": 127,
   "metadata": {
    "collapsed": true
   },
   "outputs": [],
   "source": [
    "days = pd.Series([31,28,31,30,31,30,31,31,30,31,30,31])\n",
    "matrix['days'] = matrix['month'].map(days).astype(np.int8)"
   ]
  },
  {
   "cell_type": "code",
   "execution_count": 128,
   "metadata": {
    "collapsed": true
   },
   "outputs": [],
   "source": [
    "cache = {}\n",
    "matrix['item_shop_last_sale'] = -1\n",
    "matrix['item_shop_last_sale'] = matrix['item_shop_last_sale'].astype(np.int8)\n",
    "for idx, row in matrix.iterrows():    \n",
    "    key = str(row.item_id)+' '+str(row.shop_id)\n",
    "    if key not in cache:\n",
    "        if row.item_cnt_month!=0:\n",
    "            cache[key] = row.date_block_num\n",
    "    else:\n",
    "        last_date_block_num = cache[key]\n",
    "        matrix.at[idx, 'item_shop_last_sale'] = row.date_block_num - last_date_block_num\n",
    "        cache[key] = row.date_block_num   "
   ]
  },
  {
   "cell_type": "code",
   "execution_count": 129,
   "metadata": {
    "collapsed": true
   },
   "outputs": [],
   "source": [
    "cache = {}\n",
    "matrix['item_last_sale'] = -1\n",
    "matrix['item_last_sale'] = matrix['item_last_sale'].astype(np.int8)\n",
    "for idx, row in matrix.iterrows():    \n",
    "    key = row.item_id\n",
    "    if key not in cache:\n",
    "        if row.item_cnt_month!=0:\n",
    "            cache[key] = row.date_block_num\n",
    "    else:\n",
    "        last_date_block_num = cache[key]\n",
    "        if row.date_block_num>last_date_block_num:\n",
    "            matrix.at[idx, 'item_last_sale'] = row.date_block_num - last_date_block_num\n",
    "            cache[key] = row.date_block_num    "
   ]
  },
  {
   "cell_type": "markdown",
   "metadata": {},
   "source": [
    "### 模型建立"
   ]
  },
  {
   "cell_type": "markdown",
   "metadata": {},
   "source": [
    "#### LightGBM"
   ]
  },
  {
   "cell_type": "code",
   "execution_count": 130,
   "metadata": {
    "collapsed": true
   },
   "outputs": [],
   "source": [
    "data = matrix[matrix.date_block_num > 11]\n",
    "\n",
    "def fill_na(df):\n",
    "    for col in df.columns:\n",
    "        if ('_lag_' in col) & (df[col].isnull().any()):\n",
    "            if ('item_cnt' in col):\n",
    "                df[col].fillna(0, inplace=True)         \n",
    "    return df\n",
    "\n",
    "data = fill_na(matrix)"
   ]
  },
  {
   "cell_type": "code",
   "execution_count": 132,
   "metadata": {
    "collapsed": true
   },
   "outputs": [],
   "source": [
    "data = matrix[matrix.date_block_num > 11]"
   ]
  },
  {
   "cell_type": "code",
   "execution_count": 134,
   "metadata": {
    "collapsed": true
   },
   "outputs": [],
   "source": [
    "X_train = data[data.date_block_num < 33].drop(['item_cnt_month'], axis=1)\n",
    "Y_train = data[data.date_block_num < 33]['item_cnt_month']\n",
    "X_valid = data[data.date_block_num == 33].drop(['item_cnt_month'], axis=1)\n",
    "Y_valid = data[data.date_block_num == 33]['item_cnt_month']\n",
    "X_test = data[data.date_block_num == 34].drop(['item_cnt_month'], axis=1)"
   ]
  },
  {
   "cell_type": "code",
   "execution_count": 135,
   "metadata": {
    "scrolled": true
   },
   "outputs": [
    {
     "name": "stdout",
     "output_type": "stream",
     "text": [
      "[1]\ttraining's rmse: 1.15565\ttraining's l2: 1.33553\tvalid_1's rmse: 1.04465\tvalid_1's l2: 1.0913\n",
      "Training until validation scores don't improve for 10 rounds.\n",
      "[2]\ttraining's rmse: 1.1162\ttraining's l2: 1.24591\tvalid_1's rmse: 1.0139\tvalid_1's l2: 1.028\n",
      "[3]\ttraining's rmse: 1.08378\ttraining's l2: 1.17457\tvalid_1's rmse: 0.989438\tvalid_1's l2: 0.978988\n",
      "[4]\ttraining's rmse: 1.05486\ttraining's l2: 1.11272\tvalid_1's rmse: 0.96741\tvalid_1's l2: 0.935881\n",
      "[5]\ttraining's rmse: 1.03026\ttraining's l2: 1.06143\tvalid_1's rmse: 0.948914\tvalid_1's l2: 0.900438\n",
      "[6]\ttraining's rmse: 1.00924\ttraining's l2: 1.01857\tvalid_1's rmse: 0.934202\tvalid_1's l2: 0.872733\n",
      "[7]\ttraining's rmse: 0.991414\ttraining's l2: 0.982901\tvalid_1's rmse: 0.921421\tvalid_1's l2: 0.849016\n",
      "[8]\ttraining's rmse: 0.976305\ttraining's l2: 0.953172\tvalid_1's rmse: 0.910358\tvalid_1's l2: 0.828751\n",
      "[9]\ttraining's rmse: 0.962396\ttraining's l2: 0.926205\tvalid_1's rmse: 0.899237\tvalid_1's l2: 0.808627\n",
      "[10]\ttraining's rmse: 0.951413\ttraining's l2: 0.905187\tvalid_1's rmse: 0.892319\tvalid_1's l2: 0.796234\n",
      "[11]\ttraining's rmse: 0.941011\ttraining's l2: 0.885502\tvalid_1's rmse: 0.883528\tvalid_1's l2: 0.780622\n",
      "[12]\ttraining's rmse: 0.932822\ttraining's l2: 0.870156\tvalid_1's rmse: 0.877547\tvalid_1's l2: 0.770089\n",
      "[13]\ttraining's rmse: 0.925892\ttraining's l2: 0.857276\tvalid_1's rmse: 0.873208\tvalid_1's l2: 0.762492\n",
      "[14]\ttraining's rmse: 0.919985\ttraining's l2: 0.846373\tvalid_1's rmse: 0.869481\tvalid_1's l2: 0.755997\n",
      "[15]\ttraining's rmse: 0.914248\ttraining's l2: 0.83585\tvalid_1's rmse: 0.865012\tvalid_1's l2: 0.748245\n",
      "[16]\ttraining's rmse: 0.908449\ttraining's l2: 0.825279\tvalid_1's rmse: 0.860966\tvalid_1's l2: 0.741262\n",
      "[17]\ttraining's rmse: 0.904431\ttraining's l2: 0.817995\tvalid_1's rmse: 0.85928\tvalid_1's l2: 0.738363\n",
      "[18]\ttraining's rmse: 0.900809\ttraining's l2: 0.811457\tvalid_1's rmse: 0.858371\tvalid_1's l2: 0.736801\n",
      "[19]\ttraining's rmse: 0.897881\ttraining's l2: 0.80619\tvalid_1's rmse: 0.857241\tvalid_1's l2: 0.734862\n",
      "[20]\ttraining's rmse: 0.894276\ttraining's l2: 0.79973\tvalid_1's rmse: 0.854116\tvalid_1's l2: 0.729513\n",
      "[21]\ttraining's rmse: 0.891511\ttraining's l2: 0.794792\tvalid_1's rmse: 0.853336\tvalid_1's l2: 0.728183\n",
      "[22]\ttraining's rmse: 0.889227\ttraining's l2: 0.790724\tvalid_1's rmse: 0.852326\tvalid_1's l2: 0.72646\n",
      "[23]\ttraining's rmse: 0.886773\ttraining's l2: 0.786367\tvalid_1's rmse: 0.852204\tvalid_1's l2: 0.726251\n",
      "[24]\ttraining's rmse: 0.884569\ttraining's l2: 0.782463\tvalid_1's rmse: 0.850691\tvalid_1's l2: 0.723675\n",
      "[25]\ttraining's rmse: 0.882952\ttraining's l2: 0.779605\tvalid_1's rmse: 0.850201\tvalid_1's l2: 0.722841\n",
      "[26]\ttraining's rmse: 0.881316\ttraining's l2: 0.776718\tvalid_1's rmse: 0.849409\tvalid_1's l2: 0.721495\n",
      "[27]\ttraining's rmse: 0.879353\ttraining's l2: 0.773262\tvalid_1's rmse: 0.848958\tvalid_1's l2: 0.72073\n",
      "[28]\ttraining's rmse: 0.877881\ttraining's l2: 0.770674\tvalid_1's rmse: 0.848239\tvalid_1's l2: 0.71951\n",
      "[29]\ttraining's rmse: 0.876587\ttraining's l2: 0.768404\tvalid_1's rmse: 0.847974\tvalid_1's l2: 0.719059\n",
      "[30]\ttraining's rmse: 0.875434\ttraining's l2: 0.766384\tvalid_1's rmse: 0.84766\tvalid_1's l2: 0.718527\n",
      "[31]\ttraining's rmse: 0.874228\ttraining's l2: 0.764275\tvalid_1's rmse: 0.84771\tvalid_1's l2: 0.718613\n",
      "[32]\ttraining's rmse: 0.873224\ttraining's l2: 0.76252\tvalid_1's rmse: 0.847366\tvalid_1's l2: 0.71803\n",
      "[33]\ttraining's rmse: 0.872132\ttraining's l2: 0.760613\tvalid_1's rmse: 0.847143\tvalid_1's l2: 0.717652\n",
      "[34]\ttraining's rmse: 0.871287\ttraining's l2: 0.759142\tvalid_1's rmse: 0.84679\tvalid_1's l2: 0.717054\n",
      "[35]\ttraining's rmse: 0.870338\ttraining's l2: 0.757488\tvalid_1's rmse: 0.847215\tvalid_1's l2: 0.717774\n",
      "[36]\ttraining's rmse: 0.869325\ttraining's l2: 0.755727\tvalid_1's rmse: 0.847012\tvalid_1's l2: 0.717429\n",
      "[37]\ttraining's rmse: 0.867675\ttraining's l2: 0.75286\tvalid_1's rmse: 0.845891\tvalid_1's l2: 0.715531\n",
      "[38]\ttraining's rmse: 0.866276\ttraining's l2: 0.750434\tvalid_1's rmse: 0.844259\tvalid_1's l2: 0.712773\n",
      "[39]\ttraining's rmse: 0.865585\ttraining's l2: 0.749237\tvalid_1's rmse: 0.844071\tvalid_1's l2: 0.712456\n",
      "[40]\ttraining's rmse: 0.864527\ttraining's l2: 0.747407\tvalid_1's rmse: 0.843161\tvalid_1's l2: 0.71092\n",
      "[41]\ttraining's rmse: 0.863931\ttraining's l2: 0.746376\tvalid_1's rmse: 0.843033\tvalid_1's l2: 0.710704\n",
      "[42]\ttraining's rmse: 0.863231\ttraining's l2: 0.745168\tvalid_1's rmse: 0.84298\tvalid_1's l2: 0.710615\n",
      "[43]\ttraining's rmse: 0.862582\ttraining's l2: 0.744047\tvalid_1's rmse: 0.842706\tvalid_1's l2: 0.710153\n",
      "[44]\ttraining's rmse: 0.861629\ttraining's l2: 0.742404\tvalid_1's rmse: 0.842387\tvalid_1's l2: 0.709616\n",
      "[45]\ttraining's rmse: 0.861067\ttraining's l2: 0.741437\tvalid_1's rmse: 0.842521\tvalid_1's l2: 0.709842\n",
      "[46]\ttraining's rmse: 0.860343\ttraining's l2: 0.740191\tvalid_1's rmse: 0.843145\tvalid_1's l2: 0.710894\n",
      "[47]\ttraining's rmse: 0.859823\ttraining's l2: 0.739295\tvalid_1's rmse: 0.843626\tvalid_1's l2: 0.711704\n",
      "[48]\ttraining's rmse: 0.859327\ttraining's l2: 0.738442\tvalid_1's rmse: 0.84345\tvalid_1's l2: 0.711408\n",
      "[49]\ttraining's rmse: 0.858106\ttraining's l2: 0.736345\tvalid_1's rmse: 0.841871\tvalid_1's l2: 0.708747\n",
      "[50]\ttraining's rmse: 0.857252\ttraining's l2: 0.734882\tvalid_1's rmse: 0.841644\tvalid_1's l2: 0.708365\n",
      "[51]\ttraining's rmse: 0.856353\ttraining's l2: 0.73334\tvalid_1's rmse: 0.841372\tvalid_1's l2: 0.707907\n",
      "[52]\ttraining's rmse: 0.855896\ttraining's l2: 0.732557\tvalid_1's rmse: 0.841153\tvalid_1's l2: 0.707538\n",
      "[53]\ttraining's rmse: 0.855352\ttraining's l2: 0.731626\tvalid_1's rmse: 0.840704\tvalid_1's l2: 0.706783\n",
      "[54]\ttraining's rmse: 0.854673\ttraining's l2: 0.730465\tvalid_1's rmse: 0.841178\tvalid_1's l2: 0.70758\n",
      "[55]\ttraining's rmse: 0.854158\ttraining's l2: 0.729586\tvalid_1's rmse: 0.841737\tvalid_1's l2: 0.708522\n",
      "[56]\ttraining's rmse: 0.853329\ttraining's l2: 0.72817\tvalid_1's rmse: 0.842835\tvalid_1's l2: 0.710371\n",
      "[57]\ttraining's rmse: 0.852546\ttraining's l2: 0.726835\tvalid_1's rmse: 0.842267\tvalid_1's l2: 0.709414\n",
      "[58]\ttraining's rmse: 0.852101\ttraining's l2: 0.726076\tvalid_1's rmse: 0.842359\tvalid_1's l2: 0.709568\n",
      "[59]\ttraining's rmse: 0.851591\ttraining's l2: 0.725207\tvalid_1's rmse: 0.842334\tvalid_1's l2: 0.709526\n",
      "[60]\ttraining's rmse: 0.85118\ttraining's l2: 0.724507\tvalid_1's rmse: 0.841807\tvalid_1's l2: 0.708638\n",
      "[61]\ttraining's rmse: 0.850838\ttraining's l2: 0.723925\tvalid_1's rmse: 0.841879\tvalid_1's l2: 0.70876\n",
      "[62]\ttraining's rmse: 0.850412\ttraining's l2: 0.723201\tvalid_1's rmse: 0.841643\tvalid_1's l2: 0.708362\n",
      "[63]\ttraining's rmse: 0.84955\ttraining's l2: 0.721736\tvalid_1's rmse: 0.840684\tvalid_1's l2: 0.706749\n",
      "[64]\ttraining's rmse: 0.848719\ttraining's l2: 0.720324\tvalid_1's rmse: 0.839575\tvalid_1's l2: 0.704886\n",
      "[65]\ttraining's rmse: 0.848358\ttraining's l2: 0.719711\tvalid_1's rmse: 0.839756\tvalid_1's l2: 0.70519\n",
      "[66]\ttraining's rmse: 0.84803\ttraining's l2: 0.719155\tvalid_1's rmse: 0.840096\tvalid_1's l2: 0.705761\n",
      "[67]\ttraining's rmse: 0.847725\ttraining's l2: 0.718637\tvalid_1's rmse: 0.840378\tvalid_1's l2: 0.706236\n",
      "[68]\ttraining's rmse: 0.847433\ttraining's l2: 0.718142\tvalid_1's rmse: 0.840426\tvalid_1's l2: 0.706316\n",
      "[69]\ttraining's rmse: 0.846372\ttraining's l2: 0.716346\tvalid_1's rmse: 0.839369\tvalid_1's l2: 0.70454\n",
      "[70]\ttraining's rmse: 0.845462\ttraining's l2: 0.714806\tvalid_1's rmse: 0.838558\tvalid_1's l2: 0.703179\n",
      "[71]\ttraining's rmse: 0.845213\ttraining's l2: 0.714385\tvalid_1's rmse: 0.838561\tvalid_1's l2: 0.703184\n",
      "[72]\ttraining's rmse: 0.844194\ttraining's l2: 0.712663\tvalid_1's rmse: 0.837748\tvalid_1's l2: 0.701821\n",
      "[73]\ttraining's rmse: 0.843877\ttraining's l2: 0.712128\tvalid_1's rmse: 0.837896\tvalid_1's l2: 0.70207\n",
      "[74]\ttraining's rmse: 0.843637\ttraining's l2: 0.711724\tvalid_1's rmse: 0.837906\tvalid_1's l2: 0.702086\n",
      "[75]\ttraining's rmse: 0.843233\ttraining's l2: 0.711041\tvalid_1's rmse: 0.837767\tvalid_1's l2: 0.701854\n",
      "[76]\ttraining's rmse: 0.842987\ttraining's l2: 0.710627\tvalid_1's rmse: 0.837766\tvalid_1's l2: 0.701852\n",
      "[77]\ttraining's rmse: 0.842606\ttraining's l2: 0.709985\tvalid_1's rmse: 0.837439\tvalid_1's l2: 0.701303\n",
      "[78]\ttraining's rmse: 0.841468\ttraining's l2: 0.708069\tvalid_1's rmse: 0.838142\tvalid_1's l2: 0.702483\n",
      "[79]\ttraining's rmse: 0.841158\ttraining's l2: 0.707547\tvalid_1's rmse: 0.838739\tvalid_1's l2: 0.703483\n",
      "[80]\ttraining's rmse: 0.840834\ttraining's l2: 0.707002\tvalid_1's rmse: 0.838473\tvalid_1's l2: 0.703038\n",
      "[81]\ttraining's rmse: 0.840611\ttraining's l2: 0.706626\tvalid_1's rmse: 0.838408\tvalid_1's l2: 0.702928\n"
     ]
    },
    {
     "name": "stdout",
     "output_type": "stream",
     "text": [
      "[82]\ttraining's rmse: 0.839984\ttraining's l2: 0.705573\tvalid_1's rmse: 0.838782\tvalid_1's l2: 0.703555\n",
      "[83]\ttraining's rmse: 0.838535\ttraining's l2: 0.70314\tvalid_1's rmse: 0.838353\tvalid_1's l2: 0.702836\n",
      "[84]\ttraining's rmse: 0.838254\ttraining's l2: 0.702669\tvalid_1's rmse: 0.838539\tvalid_1's l2: 0.703147\n",
      "[85]\ttraining's rmse: 0.837873\ttraining's l2: 0.70203\tvalid_1's rmse: 0.838311\tvalid_1's l2: 0.702765\n",
      "[86]\ttraining's rmse: 0.837485\ttraining's l2: 0.701382\tvalid_1's rmse: 0.838822\tvalid_1's l2: 0.703622\n",
      "[87]\ttraining's rmse: 0.836979\ttraining's l2: 0.700534\tvalid_1's rmse: 0.838953\tvalid_1's l2: 0.703842\n",
      "Early stopping, best iteration is:\n",
      "[77]\ttraining's rmse: 0.842606\ttraining's l2: 0.709985\tvalid_1's rmse: 0.837439\tvalid_1's l2: 0.701303\n"
     ]
    },
    {
     "data": {
      "text/plain": [
       "25.04281520843506"
      ]
     },
     "execution_count": 135,
     "metadata": {},
     "output_type": "execute_result"
    }
   ],
   "source": [
    "ts = time.time()\n",
    "\n",
    "model = LGBMRegressor(\n",
    "    max_depth=8,\n",
    "    n_estimators=1000,\n",
    "    min_child_weight=300, \n",
    "    colsample_bytree=0.8, \n",
    "    subsample=0.8, \n",
    "    eta=0.3,    \n",
    "    seed=42)\n",
    "\n",
    "model.fit(\n",
    "    X_train, \n",
    "    Y_train, \n",
    "    eval_metric=\"rmse\", \n",
    "    eval_set=[(X_train, Y_train), (X_valid, Y_valid)], \n",
    "    verbose=True, \n",
    "    early_stopping_rounds = 10)\n",
    "\n",
    "time.time() - ts"
   ]
  },
  {
   "cell_type": "code",
   "execution_count": 136,
   "metadata": {
    "collapsed": true
   },
   "outputs": [],
   "source": [
    "Y_pred = model.predict(X_valid).clip(0, 20)\n",
    "Y_test = model.predict(X_test).clip(0, 20)\n",
    "\n",
    "submission = pd.DataFrame({\n",
    "    \"ID\": test.index, \n",
    "    \"item_cnt_month\": Y_test\n",
    "})\n",
    "submission.to_csv('lgbm7.csv', index=False)"
   ]
  },
  {
   "cell_type": "markdown",
   "metadata": {},
   "source": [
    "### 模型评估\n",
    "<table>\n",
    "\n",
    "\n",
    "    <tr>\n",
    "        <td>\n",
    "        **Prophet**\n",
    "        </td>\n",
    "        <td>\n",
    "        3.81201\n",
    "        </td>\n",
    "    <tr>\n",
    "        <td>\n",
    "        **LSTM**\n",
    "        </td>\n",
    "        <td>\n",
    "        1.01924\n",
    "        </td>\n",
    "    </tr>\n",
    "    <tr>\n",
    "        <td>\n",
    "        **LightGBM**\n",
    "        </td>\n",
    "        <td>\n",
    "        0.91277\n",
    "        </td>\n",
    "    </tr>\n",
    "    <tr>\n",
    "        <td>\n",
    "        **XGBoost**\n",
    "        </td>\n",
    "        <td>\n",
    "        0.91163\n",
    "        </td>\n",
    "    </tr>\n",
    "</table>"
   ]
  },
  {
   "cell_type": "code",
   "execution_count": null,
   "metadata": {
    "collapsed": true
   },
   "outputs": [],
   "source": []
  }
 ],
 "metadata": {
  "kernelspec": {
   "display_name": "Python 3",
   "language": "python",
   "name": "python3"
  },
  "language_info": {
   "codemirror_mode": {
    "name": "ipython",
    "version": 3
   },
   "file_extension": ".py",
   "mimetype": "text/x-python",
   "name": "python",
   "nbconvert_exporter": "python",
   "pygments_lexer": "ipython3",
   "version": "3.6.5"
  }
 },
 "nbformat": 4,
 "nbformat_minor": 2
}
